{
 "cells": [
  {
   "cell_type": "markdown",
   "id": "093750a3-06f0-433f-8a3d-c8af605f045d",
   "metadata": {},
   "source": [
    "### Setup"
   ]
  },
  {
   "cell_type": "code",
   "execution_count": null,
   "id": "aeeec111-8c3c-4086-bf06-f5afaafeadef",
   "metadata": {},
   "outputs": [],
   "source": [
    "# %cd ~"
   ]
  },
  {
   "cell_type": "code",
   "execution_count": null,
   "id": "83223f84-2cf1-474a-9744-e70eb800b80e",
   "metadata": {},
   "outputs": [],
   "source": [
    "# ~/.cache/huggingface"
   ]
  },
  {
   "cell_type": "code",
   "execution_count": 1,
   "id": "6c38b59e-3a35-4eb5-9fd9-d47fb7e68b68",
   "metadata": {},
   "outputs": [
    {
     "name": "stderr",
     "output_type": "stream",
     "text": [
      "\u001b[34m\u001b[1mwandb\u001b[0m: Currently logged in as: \u001b[33mmatt24\u001b[0m. Use \u001b[1m`wandb login --relogin`\u001b[0m to force relogin\n"
     ]
    },
    {
     "data": {
      "text/plain": [
       "True"
      ]
     },
     "execution_count": 1,
     "metadata": {},
     "output_type": "execute_result"
    }
   ],
   "source": [
    "import wandb\n",
    "import os\n",
    "import time\n",
    "\n",
    "wandb.login()"
   ]
  },
  {
   "cell_type": "code",
   "execution_count": 2,
   "id": "32d7d59a-faf4-4647-a845-929acf8bc7ee",
   "metadata": {},
   "outputs": [
    {
     "name": "stdout",
     "output_type": "stream",
     "text": [
      "0.0\n",
      "0.0\n"
     ]
    }
   ],
   "source": [
    "import torch\n",
    "\n",
    "torch.cuda.empty_cache()\n",
    "print(torch.cuda.memory_allocated() / (1024 ** 3))\n",
    "print(torch.cuda.memory_reserved() / (1024 ** 3))"
   ]
  },
  {
   "cell_type": "code",
   "execution_count": 3,
   "id": "2b1b732b-5c5a-402a-bfef-59d0e41ec548",
   "metadata": {},
   "outputs": [],
   "source": [
    "from diffusers import StableDiffusionPipeline\n",
    "import torch\n",
    "import random\n",
    "from PIL import Image\n",
    "\n",
    "device = \"cuda\" if torch.cuda.is_available() else \"cpu\"\n",
    "\n",
    "\n",
    "def image_grid(imgs, rows, cols, size=None):\n",
    "    assert len(imgs) == rows*cols\n",
    "\n",
    "    w, h = imgs[0].size\n",
    "    grid = Image.new('RGB', size=(cols*w, rows*h))\n",
    "    grid_w, grid_h = grid.size\n",
    "    \n",
    "    for i, img in enumerate(imgs):\n",
    "        grid.paste(img, box=(i%cols*w, i//cols*h))\n",
    "\n",
    "    if size:\n",
    "        return grid.resize((cols * size, rows * size))\n",
    "    else:   \n",
    "        return grid\n",
    "\n",
    "import os\n",
    "import math\n",
    "\n",
    "# define function to get size of directory in bytes\n",
    "def get_dir_size(path):\n",
    "    total_size = os.path.getsize(path)\n",
    "    if os.path.isdir(path):\n",
    "        for item in os.listdir(path):\n",
    "            item_path = os.path.join(path, item)\n",
    "            if os.path.isfile(item_path):\n",
    "                total_size += os.path.getsize(item_path)\n",
    "            elif os.path.isdir(item_path):\n",
    "                total_size += get_dir_size(item_path)\n",
    "    return total_size"
   ]
  },
  {
   "cell_type": "code",
   "execution_count": 4,
   "id": "7974723c-d502-4ef4-bad9-02580c1949b7",
   "metadata": {},
   "outputs": [],
   "source": [
    "import diffusers\n",
    "from diffusers import StableDiffusionPipeline, PNDMScheduler, EulerDiscreteScheduler, DDIMScheduler\n",
    "import torch\n",
    "\n",
    "schedulers = {\n",
    "    \"pndm\": PNDMScheduler,\n",
    "    \"euler\": EulerDiscreteScheduler,\n",
    "    \"ddim\": DDIMScheduler\n",
    "}"
   ]
  },
  {
   "cell_type": "markdown",
   "id": "2581cf9e-b0d9-426c-89e0-211048cd3fb7",
   "metadata": {},
   "source": [
    "### Deliberate"
   ]
  },
  {
   "cell_type": "code",
   "execution_count": 5,
   "id": "cf5da24d-52d1-45e3-896c-b36f1de5ee96",
   "metadata": {
    "scrolled": true
   },
   "outputs": [
    {
     "name": "stderr",
     "output_type": "stream",
     "text": [
      "safety_checker/model.safetensors not found\n"
     ]
    },
    {
     "data": {
      "application/vnd.jupyter.widget-view+json": {
       "model_id": "4a2ee1ee6f734dc09c4f14c9b4f29577",
       "version_major": 2,
       "version_minor": 0
      },
      "text/plain": [
       "Loading pipeline components...:   0%|          | 0/7 [00:00<?, ?it/s]"
      ]
     },
     "metadata": {},
     "output_type": "display_data"
    },
    {
     "name": "stderr",
     "output_type": "stream",
     "text": [
      "`text_config_dict` is provided which will be used to initialize `CLIPTextConfig`. The value `text_config[\"id2label\"]` will be overriden.\n",
      "`text_config_dict` is provided which will be used to initialize `CLIPTextConfig`. The value `text_config[\"bos_token_id\"]` will be overriden.\n",
      "`text_config_dict` is provided which will be used to initialize `CLIPTextConfig`. The value `text_config[\"eos_token_id\"]` will be overriden.\n",
      "/usr/local/lib/python3.10/dist-packages/transformers/models/clip/feature_extraction_clip.py:28: FutureWarning: The class CLIPFeatureExtractor is deprecated and will be removed in version 5 of Transformers. Please use CLIPImageProcessor instead.\n",
      "  warnings.warn(\n"
     ]
    },
    {
     "name": "stdout",
     "output_type": "stream",
     "text": [
      "Scheduler: PNDMScheduler\n",
      "2.588134765625\n",
      "2.599609375\n"
     ]
    }
   ],
   "source": [
    "import diffusers\n",
    "from diffusers import StableDiffusionPipeline, EulerDiscreteScheduler\n",
    "from transformers import CLIPImageProcessor\n",
    "import torch\n",
    "\n",
    "PROJECT_NAME = \"sd-profiler\"\n",
    "\n",
    "model_id = \"XpucT/Deliberate\"\n",
    "scheduler = schedulers[\"pndm\"].from_pretrained(model_id, subfolder=\"scheduler\")\n",
    "pipe = StableDiffusionPipeline.from_pretrained(model_id, scheduler=scheduler, torch_dtype=torch.float16)\n",
    "pipe = pipe.to(device)\n",
    "\n",
    "print(f\"Scheduler: {pipe.scheduler.config['_class_name']}\")\n",
    "\n",
    "torch.cuda.empty_cache()\n",
    "print(torch.cuda.memory_allocated() / (1024 ** 3))\n",
    "print(torch.cuda.memory_reserved() / (1024 ** 3))\n",
    "\n",
    "# model_path = \"./.cache/huggingface/hub/models--\" + model_id.replace(\"/\", \"--\")\n",
    "\n",
    "# # get size of directory in bytes\n",
    "# dir_size = get_dir_size(model_path)\n",
    "\n",
    "# # convert to GB\n",
    "# dir_size_gb = dir_size / (1024**3)\n",
    "\n",
    "# print(f\"Directory size {math.ceil(dir_size_gb)} GB\")"
   ]
  },
  {
   "cell_type": "code",
   "execution_count": 8,
   "id": "ba4e4e28-0d52-4705-b66b-66d170d198d2",
   "metadata": {},
   "outputs": [
    {
     "name": "stdout",
     "output_type": "stream",
     "text": [
      "58\n",
      "68\n"
     ]
    }
   ],
   "source": [
    "# prompt = \"The most beautiful cat nowadays can be described as a Bengal cat. They have short, smooth and shiny fur with various colors, from orange, brown to gray and black. The highlight of their appearance is the bold black stripes on their fur, creating a wild and charming look. They have big, bright eyes with green or yellow color, giving them a sharp and lively look\"\n",
    "prompt = \"The most beautiful cat nowadays can be described as a Bengal cat. They have short, smooth and shiny fur with various colors, from orange, brown to gray and black. The highlight of their appearance is the bold black stripes on their fur, creating a wild and charming look. They have big, bright eyes with green or yellow color\"\n",
    "print(len(prompt.split()))\n",
    "print(len(pipe.tokenizer(prompt)[\"input_ids\"]))"
   ]
  },
  {
   "cell_type": "code",
   "execution_count": 9,
   "id": "f4c898f9-d403-4c19-b8e9-ab34db6e6c15",
   "metadata": {
    "scrolled": true
   },
   "outputs": [
    {
     "data": {
      "text/html": [
       "Tracking run with wandb version 0.15.7"
      ],
      "text/plain": [
       "<IPython.core.display.HTML object>"
      ]
     },
     "metadata": {},
     "output_type": "display_data"
    },
    {
     "data": {
      "text/html": [
       "Run data is saved locally in <code>/workspace/stable-diffusions/wandb/run-20230731_064154-ujk9t4v7</code>"
      ],
      "text/plain": [
       "<IPython.core.display.HTML object>"
      ]
     },
     "metadata": {},
     "output_type": "display_data"
    },
    {
     "data": {
      "text/html": [
       "Syncing run <strong><a href='https://wandb.ai/matt24/sd-profiler/runs/ujk9t4v7' target=\"_blank\">glamorous-sunset-64</a></strong> to <a href='https://wandb.ai/matt24/sd-profiler' target=\"_blank\">Weights & Biases</a> (<a href='https://wandb.me/run' target=\"_blank\">docs</a>)<br/>"
      ],
      "text/plain": [
       "<IPython.core.display.HTML object>"
      ]
     },
     "metadata": {},
     "output_type": "display_data"
    },
    {
     "data": {
      "text/html": [
       " View project at <a href='https://wandb.ai/matt24/sd-profiler' target=\"_blank\">https://wandb.ai/matt24/sd-profiler</a>"
      ],
      "text/plain": [
       "<IPython.core.display.HTML object>"
      ]
     },
     "metadata": {},
     "output_type": "display_data"
    },
    {
     "data": {
      "text/html": [
       " View run at <a href='https://wandb.ai/matt24/sd-profiler/runs/ujk9t4v7' target=\"_blank\">https://wandb.ai/matt24/sd-profiler/runs/ujk9t4v7</a>"
      ],
      "text/plain": [
       "<IPython.core.display.HTML object>"
      ]
     },
     "metadata": {},
     "output_type": "display_data"
    },
    {
     "data": {
      "application/vnd.jupyter.widget-view+json": {
       "model_id": "892669ad5de34545a9c867949bbb257f",
       "version_major": 2,
       "version_minor": 0
      },
      "text/plain": [
       "  0%|          | 0/20 [00:00<?, ?it/s]"
      ]
     },
     "metadata": {},
     "output_type": "display_data"
    },
    {
     "data": {
      "text/html": [
       "Waiting for W&B process to finish... <strong style=\"color:green\">(success).</strong>"
      ],
      "text/plain": [
       "<IPython.core.display.HTML object>"
      ]
     },
     "metadata": {},
     "output_type": "display_data"
    },
    {
     "data": {
      "application/vnd.jupyter.widget-view+json": {
       "model_id": "530fc8f741ae40268471621c8ac8a36b",
       "version_major": 2,
       "version_minor": 0
      },
      "text/plain": [
       "VBox(children=(Label(value='0.004 MB of 0.004 MB uploaded (0.000 MB deduped)\\r'), FloatProgress(value=1.0, max…"
      ]
     },
     "metadata": {},
     "output_type": "display_data"
    },
    {
     "data": {
      "text/html": [
       " View run <strong style=\"color:#cdcd00\">glamorous-sunset-64</strong> at: <a href='https://wandb.ai/matt24/sd-profiler/runs/ujk9t4v7' target=\"_blank\">https://wandb.ai/matt24/sd-profiler/runs/ujk9t4v7</a><br/> View job at <a href='https://wandb.ai/matt24/sd-profiler/jobs/QXJ0aWZhY3RDb2xsZWN0aW9uOjg2NzY3NzUz/version_details/v2' target=\"_blank\">https://wandb.ai/matt24/sd-profiler/jobs/QXJ0aWZhY3RDb2xsZWN0aW9uOjg2NzY3NzUz/version_details/v2</a><br/>Synced 4 W&B file(s), 0 media file(s), 0 artifact file(s) and 0 other file(s)"
      ],
      "text/plain": [
       "<IPython.core.display.HTML object>"
      ]
     },
     "metadata": {},
     "output_type": "display_data"
    },
    {
     "data": {
      "text/html": [
       "Find logs at: <code>./wandb/run-20230731_064154-ujk9t4v7/logs</code>"
      ],
      "text/plain": [
       "<IPython.core.display.HTML object>"
      ]
     },
     "metadata": {},
     "output_type": "display_data"
    },
    {
     "name": "stdout",
     "output_type": "stream",
     "text": [
      "Word count: 58\n",
      "Token count: 68\n",
      "Elapsed time: 1.67 seconds\n",
      "CUDA Model size: 2.6 GB\n",
      "CUDA Memory Allocated: -0.0 GB\n",
      "CUDA Memory Inference: 0.6 GB\n"
     ]
    },
    {
     "data": {
      "application/vnd.jupyter.widget-view+json": {
       "model_id": "ab0c6dc8d1504e7d9d9c0654fc825089",
       "version_major": 2,
       "version_minor": 0
      },
      "text/plain": [
       "VBox(children=(Label(value='Waiting for wandb.init()...\\r'), FloatProgress(value=0.016670833186556894, max=1.0…"
      ]
     },
     "metadata": {},
     "output_type": "display_data"
    },
    {
     "data": {
      "text/html": [
       "Tracking run with wandb version 0.15.7"
      ],
      "text/plain": [
       "<IPython.core.display.HTML object>"
      ]
     },
     "metadata": {},
     "output_type": "display_data"
    },
    {
     "data": {
      "text/html": [
       "Run data is saved locally in <code>/workspace/stable-diffusions/wandb/run-20230731_064200-vwpppb3g</code>"
      ],
      "text/plain": [
       "<IPython.core.display.HTML object>"
      ]
     },
     "metadata": {},
     "output_type": "display_data"
    },
    {
     "data": {
      "text/html": [
       "Syncing run <strong><a href='https://wandb.ai/matt24/sd-profiler/runs/vwpppb3g' target=\"_blank\">iconic-pond-65</a></strong> to <a href='https://wandb.ai/matt24/sd-profiler' target=\"_blank\">Weights & Biases</a> (<a href='https://wandb.me/run' target=\"_blank\">docs</a>)<br/>"
      ],
      "text/plain": [
       "<IPython.core.display.HTML object>"
      ]
     },
     "metadata": {},
     "output_type": "display_data"
    },
    {
     "data": {
      "text/html": [
       " View project at <a href='https://wandb.ai/matt24/sd-profiler' target=\"_blank\">https://wandb.ai/matt24/sd-profiler</a>"
      ],
      "text/plain": [
       "<IPython.core.display.HTML object>"
      ]
     },
     "metadata": {},
     "output_type": "display_data"
    },
    {
     "data": {
      "text/html": [
       " View run at <a href='https://wandb.ai/matt24/sd-profiler/runs/vwpppb3g' target=\"_blank\">https://wandb.ai/matt24/sd-profiler/runs/vwpppb3g</a>"
      ],
      "text/plain": [
       "<IPython.core.display.HTML object>"
      ]
     },
     "metadata": {},
     "output_type": "display_data"
    },
    {
     "data": {
      "application/vnd.jupyter.widget-view+json": {
       "model_id": "e0f801492cb341bf94cece18317401b4",
       "version_major": 2,
       "version_minor": 0
      },
      "text/plain": [
       "  0%|          | 0/20 [00:00<?, ?it/s]"
      ]
     },
     "metadata": {},
     "output_type": "display_data"
    },
    {
     "data": {
      "text/html": [
       "Waiting for W&B process to finish... <strong style=\"color:green\">(success).</strong>"
      ],
      "text/plain": [
       "<IPython.core.display.HTML object>"
      ]
     },
     "metadata": {},
     "output_type": "display_data"
    },
    {
     "data": {
      "application/vnd.jupyter.widget-view+json": {
       "model_id": "b8f8de3a7dea488e94f8cc172288a8eb",
       "version_major": 2,
       "version_minor": 0
      },
      "text/plain": [
       "VBox(children=(Label(value='0.004 MB of 0.004 MB uploaded (0.000 MB deduped)\\r'), FloatProgress(value=1.0, max…"
      ]
     },
     "metadata": {},
     "output_type": "display_data"
    },
    {
     "data": {
      "text/html": [
       " View run <strong style=\"color:#cdcd00\">iconic-pond-65</strong> at: <a href='https://wandb.ai/matt24/sd-profiler/runs/vwpppb3g' target=\"_blank\">https://wandb.ai/matt24/sd-profiler/runs/vwpppb3g</a><br/> View job at <a href='https://wandb.ai/matt24/sd-profiler/jobs/QXJ0aWZhY3RDb2xsZWN0aW9uOjg2NzY3NzUz/version_details/v2' target=\"_blank\">https://wandb.ai/matt24/sd-profiler/jobs/QXJ0aWZhY3RDb2xsZWN0aW9uOjg2NzY3NzUz/version_details/v2</a><br/>Synced 4 W&B file(s), 0 media file(s), 0 artifact file(s) and 0 other file(s)"
      ],
      "text/plain": [
       "<IPython.core.display.HTML object>"
      ]
     },
     "metadata": {},
     "output_type": "display_data"
    },
    {
     "data": {
      "text/html": [
       "Find logs at: <code>./wandb/run-20230731_064200-vwpppb3g/logs</code>"
      ],
      "text/plain": [
       "<IPython.core.display.HTML object>"
      ]
     },
     "metadata": {},
     "output_type": "display_data"
    },
    {
     "name": "stdout",
     "output_type": "stream",
     "text": [
      "Word count: 58\n",
      "Token count: 68\n",
      "Elapsed time: 1.72 seconds\n",
      "CUDA Model size: 2.6 GB\n",
      "CUDA Memory Allocated: 0.0 GB\n",
      "CUDA Memory Inference: 0.6 GB\n"
     ]
    },
    {
     "data": {
      "application/vnd.jupyter.widget-view+json": {
       "model_id": "7a282a5b90754f69adbe2968dd931aa4",
       "version_major": 2,
       "version_minor": 0
      },
      "text/plain": [
       "VBox(children=(Label(value='Waiting for wandb.init()...\\r'), FloatProgress(value=0.01667081459114949, max=1.0)…"
      ]
     },
     "metadata": {},
     "output_type": "display_data"
    },
    {
     "data": {
      "text/html": [
       "Tracking run with wandb version 0.15.7"
      ],
      "text/plain": [
       "<IPython.core.display.HTML object>"
      ]
     },
     "metadata": {},
     "output_type": "display_data"
    },
    {
     "data": {
      "text/html": [
       "Run data is saved locally in <code>/workspace/stable-diffusions/wandb/run-20230731_064207-wdjbxjq6</code>"
      ],
      "text/plain": [
       "<IPython.core.display.HTML object>"
      ]
     },
     "metadata": {},
     "output_type": "display_data"
    },
    {
     "data": {
      "text/html": [
       "Syncing run <strong><a href='https://wandb.ai/matt24/sd-profiler/runs/wdjbxjq6' target=\"_blank\">vibrant-butterfly-66</a></strong> to <a href='https://wandb.ai/matt24/sd-profiler' target=\"_blank\">Weights & Biases</a> (<a href='https://wandb.me/run' target=\"_blank\">docs</a>)<br/>"
      ],
      "text/plain": [
       "<IPython.core.display.HTML object>"
      ]
     },
     "metadata": {},
     "output_type": "display_data"
    },
    {
     "data": {
      "text/html": [
       " View project at <a href='https://wandb.ai/matt24/sd-profiler' target=\"_blank\">https://wandb.ai/matt24/sd-profiler</a>"
      ],
      "text/plain": [
       "<IPython.core.display.HTML object>"
      ]
     },
     "metadata": {},
     "output_type": "display_data"
    },
    {
     "data": {
      "text/html": [
       " View run at <a href='https://wandb.ai/matt24/sd-profiler/runs/wdjbxjq6' target=\"_blank\">https://wandb.ai/matt24/sd-profiler/runs/wdjbxjq6</a>"
      ],
      "text/plain": [
       "<IPython.core.display.HTML object>"
      ]
     },
     "metadata": {},
     "output_type": "display_data"
    },
    {
     "data": {
      "application/vnd.jupyter.widget-view+json": {
       "model_id": "e14e96d4a38a4baaa160dadceea07b2d",
       "version_major": 2,
       "version_minor": 0
      },
      "text/plain": [
       "  0%|          | 0/20 [00:00<?, ?it/s]"
      ]
     },
     "metadata": {},
     "output_type": "display_data"
    },
    {
     "data": {
      "text/html": [
       "Waiting for W&B process to finish... <strong style=\"color:green\">(success).</strong>"
      ],
      "text/plain": [
       "<IPython.core.display.HTML object>"
      ]
     },
     "metadata": {},
     "output_type": "display_data"
    },
    {
     "data": {
      "text/html": [
       " View run <strong style=\"color:#cdcd00\">vibrant-butterfly-66</strong> at: <a href='https://wandb.ai/matt24/sd-profiler/runs/wdjbxjq6' target=\"_blank\">https://wandb.ai/matt24/sd-profiler/runs/wdjbxjq6</a><br/> View job at <a href='https://wandb.ai/matt24/sd-profiler/jobs/QXJ0aWZhY3RDb2xsZWN0aW9uOjg2NzY3NzUz/version_details/v2' target=\"_blank\">https://wandb.ai/matt24/sd-profiler/jobs/QXJ0aWZhY3RDb2xsZWN0aW9uOjg2NzY3NzUz/version_details/v2</a><br/>Synced 4 W&B file(s), 0 media file(s), 0 artifact file(s) and 0 other file(s)"
      ],
      "text/plain": [
       "<IPython.core.display.HTML object>"
      ]
     },
     "metadata": {},
     "output_type": "display_data"
    },
    {
     "data": {
      "text/html": [
       "Find logs at: <code>./wandb/run-20230731_064207-wdjbxjq6/logs</code>"
      ],
      "text/plain": [
       "<IPython.core.display.HTML object>"
      ]
     },
     "metadata": {},
     "output_type": "display_data"
    },
    {
     "name": "stdout",
     "output_type": "stream",
     "text": [
      "Word count: 58\n",
      "Token count: 68\n",
      "Elapsed time: 1.68 seconds\n",
      "CUDA Model size: 2.6 GB\n",
      "CUDA Memory Allocated: 0.0 GB\n",
      "CUDA Memory Inference: 0.6 GB\n"
     ]
    },
    {
     "data": {
      "application/vnd.jupyter.widget-view+json": {
       "model_id": "8f96a89f2b654a41ac1e3f6eb2560aad",
       "version_major": 2,
       "version_minor": 0
      },
      "text/plain": [
       "VBox(children=(Label(value='Waiting for wandb.init()...\\r'), FloatProgress(value=0.016669631966700158, max=1.0…"
      ]
     },
     "metadata": {},
     "output_type": "display_data"
    },
    {
     "data": {
      "text/html": [
       "Tracking run with wandb version 0.15.7"
      ],
      "text/plain": [
       "<IPython.core.display.HTML object>"
      ]
     },
     "metadata": {},
     "output_type": "display_data"
    },
    {
     "data": {
      "text/html": [
       "Run data is saved locally in <code>/workspace/stable-diffusions/wandb/run-20230731_064215-xztcz6tf</code>"
      ],
      "text/plain": [
       "<IPython.core.display.HTML object>"
      ]
     },
     "metadata": {},
     "output_type": "display_data"
    },
    {
     "data": {
      "text/html": [
       "Syncing run <strong><a href='https://wandb.ai/matt24/sd-profiler/runs/xztcz6tf' target=\"_blank\">expert-wind-67</a></strong> to <a href='https://wandb.ai/matt24/sd-profiler' target=\"_blank\">Weights & Biases</a> (<a href='https://wandb.me/run' target=\"_blank\">docs</a>)<br/>"
      ],
      "text/plain": [
       "<IPython.core.display.HTML object>"
      ]
     },
     "metadata": {},
     "output_type": "display_data"
    },
    {
     "data": {
      "text/html": [
       " View project at <a href='https://wandb.ai/matt24/sd-profiler' target=\"_blank\">https://wandb.ai/matt24/sd-profiler</a>"
      ],
      "text/plain": [
       "<IPython.core.display.HTML object>"
      ]
     },
     "metadata": {},
     "output_type": "display_data"
    },
    {
     "data": {
      "text/html": [
       " View run at <a href='https://wandb.ai/matt24/sd-profiler/runs/xztcz6tf' target=\"_blank\">https://wandb.ai/matt24/sd-profiler/runs/xztcz6tf</a>"
      ],
      "text/plain": [
       "<IPython.core.display.HTML object>"
      ]
     },
     "metadata": {},
     "output_type": "display_data"
    },
    {
     "data": {
      "application/vnd.jupyter.widget-view+json": {
       "model_id": "644685f24d7e45829586195273128073",
       "version_major": 2,
       "version_minor": 0
      },
      "text/plain": [
       "  0%|          | 0/20 [00:00<?, ?it/s]"
      ]
     },
     "metadata": {},
     "output_type": "display_data"
    },
    {
     "data": {
      "text/html": [
       "Waiting for W&B process to finish... <strong style=\"color:green\">(success).</strong>"
      ],
      "text/plain": [
       "<IPython.core.display.HTML object>"
      ]
     },
     "metadata": {},
     "output_type": "display_data"
    },
    {
     "data": {
      "application/vnd.jupyter.widget-view+json": {
       "model_id": "4ff73cb190694967829ac22a7c1e7632",
       "version_major": 2,
       "version_minor": 0
      },
      "text/plain": [
       "VBox(children=(Label(value='0.004 MB of 0.004 MB uploaded (0.000 MB deduped)\\r'), FloatProgress(value=1.0, max…"
      ]
     },
     "metadata": {},
     "output_type": "display_data"
    },
    {
     "data": {
      "text/html": [
       " View run <strong style=\"color:#cdcd00\">expert-wind-67</strong> at: <a href='https://wandb.ai/matt24/sd-profiler/runs/xztcz6tf' target=\"_blank\">https://wandb.ai/matt24/sd-profiler/runs/xztcz6tf</a><br/> View job at <a href='https://wandb.ai/matt24/sd-profiler/jobs/QXJ0aWZhY3RDb2xsZWN0aW9uOjg2NzY3NzUz/version_details/v2' target=\"_blank\">https://wandb.ai/matt24/sd-profiler/jobs/QXJ0aWZhY3RDb2xsZWN0aW9uOjg2NzY3NzUz/version_details/v2</a><br/>Synced 4 W&B file(s), 0 media file(s), 0 artifact file(s) and 0 other file(s)"
      ],
      "text/plain": [
       "<IPython.core.display.HTML object>"
      ]
     },
     "metadata": {},
     "output_type": "display_data"
    },
    {
     "data": {
      "text/html": [
       "Find logs at: <code>./wandb/run-20230731_064215-xztcz6tf/logs</code>"
      ],
      "text/plain": [
       "<IPython.core.display.HTML object>"
      ]
     },
     "metadata": {},
     "output_type": "display_data"
    },
    {
     "name": "stdout",
     "output_type": "stream",
     "text": [
      "Word count: 58\n",
      "Token count: 68\n",
      "Elapsed time: 1.67 seconds\n",
      "CUDA Model size: 2.6 GB\n",
      "CUDA Memory Allocated: 0.0 GB\n",
      "CUDA Memory Inference: 0.6 GB\n"
     ]
    },
    {
     "data": {
      "application/vnd.jupyter.widget-view+json": {
       "model_id": "88a50c933ca3474daf337d84047ea426",
       "version_major": 2,
       "version_minor": 0
      },
      "text/plain": [
       "VBox(children=(Label(value='Waiting for wandb.init()...\\r'), FloatProgress(value=0.01667087050154805, max=1.0)…"
      ]
     },
     "metadata": {},
     "output_type": "display_data"
    },
    {
     "data": {
      "text/html": [
       "Tracking run with wandb version 0.15.7"
      ],
      "text/plain": [
       "<IPython.core.display.HTML object>"
      ]
     },
     "metadata": {},
     "output_type": "display_data"
    },
    {
     "data": {
      "text/html": [
       "Run data is saved locally in <code>/workspace/stable-diffusions/wandb/run-20230731_064221-sv4l0ulj</code>"
      ],
      "text/plain": [
       "<IPython.core.display.HTML object>"
      ]
     },
     "metadata": {},
     "output_type": "display_data"
    },
    {
     "data": {
      "text/html": [
       "Syncing run <strong><a href='https://wandb.ai/matt24/sd-profiler/runs/sv4l0ulj' target=\"_blank\">efficient-aardvark-68</a></strong> to <a href='https://wandb.ai/matt24/sd-profiler' target=\"_blank\">Weights & Biases</a> (<a href='https://wandb.me/run' target=\"_blank\">docs</a>)<br/>"
      ],
      "text/plain": [
       "<IPython.core.display.HTML object>"
      ]
     },
     "metadata": {},
     "output_type": "display_data"
    },
    {
     "data": {
      "text/html": [
       " View project at <a href='https://wandb.ai/matt24/sd-profiler' target=\"_blank\">https://wandb.ai/matt24/sd-profiler</a>"
      ],
      "text/plain": [
       "<IPython.core.display.HTML object>"
      ]
     },
     "metadata": {},
     "output_type": "display_data"
    },
    {
     "data": {
      "text/html": [
       " View run at <a href='https://wandb.ai/matt24/sd-profiler/runs/sv4l0ulj' target=\"_blank\">https://wandb.ai/matt24/sd-profiler/runs/sv4l0ulj</a>"
      ],
      "text/plain": [
       "<IPython.core.display.HTML object>"
      ]
     },
     "metadata": {},
     "output_type": "display_data"
    },
    {
     "data": {
      "application/vnd.jupyter.widget-view+json": {
       "model_id": "fb22654d036546f3bb4a0ae8aea5f3e3",
       "version_major": 2,
       "version_minor": 0
      },
      "text/plain": [
       "  0%|          | 0/40 [00:00<?, ?it/s]"
      ]
     },
     "metadata": {},
     "output_type": "display_data"
    },
    {
     "data": {
      "text/html": [
       "Waiting for W&B process to finish... <strong style=\"color:green\">(success).</strong>"
      ],
      "text/plain": [
       "<IPython.core.display.HTML object>"
      ]
     },
     "metadata": {},
     "output_type": "display_data"
    },
    {
     "data": {
      "application/vnd.jupyter.widget-view+json": {
       "model_id": "5ada264fd7ac419bba8069bc85b45b54",
       "version_major": 2,
       "version_minor": 0
      },
      "text/plain": [
       "VBox(children=(Label(value='0.004 MB of 0.006 MB uploaded (0.000 MB deduped)\\r'), FloatProgress(value=0.699952…"
      ]
     },
     "metadata": {},
     "output_type": "display_data"
    },
    {
     "data": {
      "text/html": [
       " View run <strong style=\"color:#cdcd00\">efficient-aardvark-68</strong> at: <a href='https://wandb.ai/matt24/sd-profiler/runs/sv4l0ulj' target=\"_blank\">https://wandb.ai/matt24/sd-profiler/runs/sv4l0ulj</a><br/> View job at <a href='https://wandb.ai/matt24/sd-profiler/jobs/QXJ0aWZhY3RDb2xsZWN0aW9uOjg2NzY3NzUz/version_details/v2' target=\"_blank\">https://wandb.ai/matt24/sd-profiler/jobs/QXJ0aWZhY3RDb2xsZWN0aW9uOjg2NzY3NzUz/version_details/v2</a><br/>Synced 4 W&B file(s), 0 media file(s), 0 artifact file(s) and 0 other file(s)"
      ],
      "text/plain": [
       "<IPython.core.display.HTML object>"
      ]
     },
     "metadata": {},
     "output_type": "display_data"
    },
    {
     "data": {
      "text/html": [
       "Find logs at: <code>./wandb/run-20230731_064221-sv4l0ulj/logs</code>"
      ],
      "text/plain": [
       "<IPython.core.display.HTML object>"
      ]
     },
     "metadata": {},
     "output_type": "display_data"
    },
    {
     "name": "stdout",
     "output_type": "stream",
     "text": [
      "Word count: 58\n",
      "Token count: 68\n",
      "Elapsed time: 3.02 seconds\n",
      "CUDA Model size: 2.6 GB\n",
      "CUDA Memory Allocated: 0.0 GB\n",
      "CUDA Memory Inference: 0.6 GB\n"
     ]
    },
    {
     "data": {
      "application/vnd.jupyter.widget-view+json": {
       "model_id": "0a6954eef2f94098a3dfe1f0a7fe34c6",
       "version_major": 2,
       "version_minor": 0
      },
      "text/plain": [
       "VBox(children=(Label(value='Waiting for wandb.init()...\\r'), FloatProgress(value=0.016668863687664272, max=1.0…"
      ]
     },
     "metadata": {},
     "output_type": "display_data"
    },
    {
     "data": {
      "text/html": [
       "Tracking run with wandb version 0.15.7"
      ],
      "text/plain": [
       "<IPython.core.display.HTML object>"
      ]
     },
     "metadata": {},
     "output_type": "display_data"
    },
    {
     "data": {
      "text/html": [
       "Run data is saved locally in <code>/workspace/stable-diffusions/wandb/run-20230731_064230-wehjm5z6</code>"
      ],
      "text/plain": [
       "<IPython.core.display.HTML object>"
      ]
     },
     "metadata": {},
     "output_type": "display_data"
    },
    {
     "data": {
      "text/html": [
       "Syncing run <strong><a href='https://wandb.ai/matt24/sd-profiler/runs/wehjm5z6' target=\"_blank\">chocolate-monkey-69</a></strong> to <a href='https://wandb.ai/matt24/sd-profiler' target=\"_blank\">Weights & Biases</a> (<a href='https://wandb.me/run' target=\"_blank\">docs</a>)<br/>"
      ],
      "text/plain": [
       "<IPython.core.display.HTML object>"
      ]
     },
     "metadata": {},
     "output_type": "display_data"
    },
    {
     "data": {
      "text/html": [
       " View project at <a href='https://wandb.ai/matt24/sd-profiler' target=\"_blank\">https://wandb.ai/matt24/sd-profiler</a>"
      ],
      "text/plain": [
       "<IPython.core.display.HTML object>"
      ]
     },
     "metadata": {},
     "output_type": "display_data"
    },
    {
     "data": {
      "text/html": [
       " View run at <a href='https://wandb.ai/matt24/sd-profiler/runs/wehjm5z6' target=\"_blank\">https://wandb.ai/matt24/sd-profiler/runs/wehjm5z6</a>"
      ],
      "text/plain": [
       "<IPython.core.display.HTML object>"
      ]
     },
     "metadata": {},
     "output_type": "display_data"
    },
    {
     "data": {
      "application/vnd.jupyter.widget-view+json": {
       "model_id": "6c6713b66a5a4efaaa87c4efe15a60de",
       "version_major": 2,
       "version_minor": 0
      },
      "text/plain": [
       "  0%|          | 0/40 [00:00<?, ?it/s]"
      ]
     },
     "metadata": {},
     "output_type": "display_data"
    },
    {
     "data": {
      "text/html": [
       "Waiting for W&B process to finish... <strong style=\"color:green\">(success).</strong>"
      ],
      "text/plain": [
       "<IPython.core.display.HTML object>"
      ]
     },
     "metadata": {},
     "output_type": "display_data"
    },
    {
     "data": {
      "text/html": [
       " View run <strong style=\"color:#cdcd00\">chocolate-monkey-69</strong> at: <a href='https://wandb.ai/matt24/sd-profiler/runs/wehjm5z6' target=\"_blank\">https://wandb.ai/matt24/sd-profiler/runs/wehjm5z6</a><br/> View job at <a href='https://wandb.ai/matt24/sd-profiler/jobs/QXJ0aWZhY3RDb2xsZWN0aW9uOjg2NzY3NzUz/version_details/v2' target=\"_blank\">https://wandb.ai/matt24/sd-profiler/jobs/QXJ0aWZhY3RDb2xsZWN0aW9uOjg2NzY3NzUz/version_details/v2</a><br/>Synced 4 W&B file(s), 0 media file(s), 0 artifact file(s) and 0 other file(s)"
      ],
      "text/plain": [
       "<IPython.core.display.HTML object>"
      ]
     },
     "metadata": {},
     "output_type": "display_data"
    },
    {
     "data": {
      "text/html": [
       "Find logs at: <code>./wandb/run-20230731_064230-wehjm5z6/logs</code>"
      ],
      "text/plain": [
       "<IPython.core.display.HTML object>"
      ]
     },
     "metadata": {},
     "output_type": "display_data"
    },
    {
     "name": "stdout",
     "output_type": "stream",
     "text": [
      "Word count: 58\n",
      "Token count: 68\n",
      "Elapsed time: 3.06 seconds\n",
      "CUDA Model size: 2.6 GB\n",
      "CUDA Memory Allocated: 0.0 GB\n",
      "CUDA Memory Inference: 0.6 GB\n"
     ]
    },
    {
     "data": {
      "application/vnd.jupyter.widget-view+json": {
       "model_id": "de9816d50877490d915714c02867d95f",
       "version_major": 2,
       "version_minor": 0
      },
      "text/plain": [
       "VBox(children=(Label(value='Waiting for wandb.init()...\\r'), FloatProgress(value=0.016670591104775666, max=1.0…"
      ]
     },
     "metadata": {},
     "output_type": "display_data"
    },
    {
     "data": {
      "text/html": [
       "Tracking run with wandb version 0.15.7"
      ],
      "text/plain": [
       "<IPython.core.display.HTML object>"
      ]
     },
     "metadata": {},
     "output_type": "display_data"
    },
    {
     "data": {
      "text/html": [
       "Run data is saved locally in <code>/workspace/stable-diffusions/wandb/run-20230731_064240-dbivro9c</code>"
      ],
      "text/plain": [
       "<IPython.core.display.HTML object>"
      ]
     },
     "metadata": {},
     "output_type": "display_data"
    },
    {
     "data": {
      "text/html": [
       "Syncing run <strong><a href='https://wandb.ai/matt24/sd-profiler/runs/dbivro9c' target=\"_blank\">fearless-darkness-70</a></strong> to <a href='https://wandb.ai/matt24/sd-profiler' target=\"_blank\">Weights & Biases</a> (<a href='https://wandb.me/run' target=\"_blank\">docs</a>)<br/>"
      ],
      "text/plain": [
       "<IPython.core.display.HTML object>"
      ]
     },
     "metadata": {},
     "output_type": "display_data"
    },
    {
     "data": {
      "text/html": [
       " View project at <a href='https://wandb.ai/matt24/sd-profiler' target=\"_blank\">https://wandb.ai/matt24/sd-profiler</a>"
      ],
      "text/plain": [
       "<IPython.core.display.HTML object>"
      ]
     },
     "metadata": {},
     "output_type": "display_data"
    },
    {
     "data": {
      "text/html": [
       " View run at <a href='https://wandb.ai/matt24/sd-profiler/runs/dbivro9c' target=\"_blank\">https://wandb.ai/matt24/sd-profiler/runs/dbivro9c</a>"
      ],
      "text/plain": [
       "<IPython.core.display.HTML object>"
      ]
     },
     "metadata": {},
     "output_type": "display_data"
    },
    {
     "data": {
      "application/vnd.jupyter.widget-view+json": {
       "model_id": "44073af085364a3cacf9f7c62f2731b1",
       "version_major": 2,
       "version_minor": 0
      },
      "text/plain": [
       "  0%|          | 0/40 [00:00<?, ?it/s]"
      ]
     },
     "metadata": {},
     "output_type": "display_data"
    },
    {
     "data": {
      "text/html": [
       "Waiting for W&B process to finish... <strong style=\"color:green\">(success).</strong>"
      ],
      "text/plain": [
       "<IPython.core.display.HTML object>"
      ]
     },
     "metadata": {},
     "output_type": "display_data"
    },
    {
     "data": {
      "application/vnd.jupyter.widget-view+json": {
       "model_id": "c31a94b69aef40d8a1323117d7cd8051",
       "version_major": 2,
       "version_minor": 0
      },
      "text/plain": [
       "VBox(children=(Label(value='0.004 MB of 0.004 MB uploaded (0.000 MB deduped)\\r'), FloatProgress(value=1.0, max…"
      ]
     },
     "metadata": {},
     "output_type": "display_data"
    },
    {
     "data": {
      "text/html": [
       " View run <strong style=\"color:#cdcd00\">fearless-darkness-70</strong> at: <a href='https://wandb.ai/matt24/sd-profiler/runs/dbivro9c' target=\"_blank\">https://wandb.ai/matt24/sd-profiler/runs/dbivro9c</a><br/> View job at <a href='https://wandb.ai/matt24/sd-profiler/jobs/QXJ0aWZhY3RDb2xsZWN0aW9uOjg2NzY3NzUz/version_details/v2' target=\"_blank\">https://wandb.ai/matt24/sd-profiler/jobs/QXJ0aWZhY3RDb2xsZWN0aW9uOjg2NzY3NzUz/version_details/v2</a><br/>Synced 4 W&B file(s), 0 media file(s), 0 artifact file(s) and 0 other file(s)"
      ],
      "text/plain": [
       "<IPython.core.display.HTML object>"
      ]
     },
     "metadata": {},
     "output_type": "display_data"
    },
    {
     "data": {
      "text/html": [
       "Find logs at: <code>./wandb/run-20230731_064240-dbivro9c/logs</code>"
      ],
      "text/plain": [
       "<IPython.core.display.HTML object>"
      ]
     },
     "metadata": {},
     "output_type": "display_data"
    },
    {
     "name": "stdout",
     "output_type": "stream",
     "text": [
      "Word count: 58\n",
      "Token count: 68\n",
      "Elapsed time: 3.05 seconds\n",
      "CUDA Model size: 2.6 GB\n",
      "CUDA Memory Allocated: 0.0 GB\n",
      "CUDA Memory Inference: 0.6 GB\n"
     ]
    },
    {
     "data": {
      "application/vnd.jupyter.widget-view+json": {
       "model_id": "62b021593462455784cc453697b143f5",
       "version_major": 2,
       "version_minor": 0
      },
      "text/plain": [
       "VBox(children=(Label(value='Waiting for wandb.init()...\\r'), FloatProgress(value=0.01667204381277164, max=1.0)…"
      ]
     },
     "metadata": {},
     "output_type": "display_data"
    },
    {
     "data": {
      "text/html": [
       "Tracking run with wandb version 0.15.7"
      ],
      "text/plain": [
       "<IPython.core.display.HTML object>"
      ]
     },
     "metadata": {},
     "output_type": "display_data"
    },
    {
     "data": {
      "text/html": [
       "Run data is saved locally in <code>/workspace/stable-diffusions/wandb/run-20230731_064248-bgl1jtol</code>"
      ],
      "text/plain": [
       "<IPython.core.display.HTML object>"
      ]
     },
     "metadata": {},
     "output_type": "display_data"
    },
    {
     "data": {
      "text/html": [
       "Syncing run <strong><a href='https://wandb.ai/matt24/sd-profiler/runs/bgl1jtol' target=\"_blank\">vital-frog-71</a></strong> to <a href='https://wandb.ai/matt24/sd-profiler' target=\"_blank\">Weights & Biases</a> (<a href='https://wandb.me/run' target=\"_blank\">docs</a>)<br/>"
      ],
      "text/plain": [
       "<IPython.core.display.HTML object>"
      ]
     },
     "metadata": {},
     "output_type": "display_data"
    },
    {
     "data": {
      "text/html": [
       " View project at <a href='https://wandb.ai/matt24/sd-profiler' target=\"_blank\">https://wandb.ai/matt24/sd-profiler</a>"
      ],
      "text/plain": [
       "<IPython.core.display.HTML object>"
      ]
     },
     "metadata": {},
     "output_type": "display_data"
    },
    {
     "data": {
      "text/html": [
       " View run at <a href='https://wandb.ai/matt24/sd-profiler/runs/bgl1jtol' target=\"_blank\">https://wandb.ai/matt24/sd-profiler/runs/bgl1jtol</a>"
      ],
      "text/plain": [
       "<IPython.core.display.HTML object>"
      ]
     },
     "metadata": {},
     "output_type": "display_data"
    },
    {
     "data": {
      "application/vnd.jupyter.widget-view+json": {
       "model_id": "c136b27925634f7689ac5f703609bbb1",
       "version_major": 2,
       "version_minor": 0
      },
      "text/plain": [
       "  0%|          | 0/40 [00:00<?, ?it/s]"
      ]
     },
     "metadata": {},
     "output_type": "display_data"
    },
    {
     "data": {
      "text/html": [
       "Waiting for W&B process to finish... <strong style=\"color:green\">(success).</strong>"
      ],
      "text/plain": [
       "<IPython.core.display.HTML object>"
      ]
     },
     "metadata": {},
     "output_type": "display_data"
    },
    {
     "data": {
      "application/vnd.jupyter.widget-view+json": {
       "model_id": "612af5d9cbb2466f9dcf5efb1ee9f7da",
       "version_major": 2,
       "version_minor": 0
      },
      "text/plain": [
       "VBox(children=(Label(value='0.004 MB of 0.006 MB uploaded (0.000 MB deduped)\\r'), FloatProgress(value=0.699904…"
      ]
     },
     "metadata": {},
     "output_type": "display_data"
    },
    {
     "data": {
      "text/html": [
       " View run <strong style=\"color:#cdcd00\">vital-frog-71</strong> at: <a href='https://wandb.ai/matt24/sd-profiler/runs/bgl1jtol' target=\"_blank\">https://wandb.ai/matt24/sd-profiler/runs/bgl1jtol</a><br/> View job at <a href='https://wandb.ai/matt24/sd-profiler/jobs/QXJ0aWZhY3RDb2xsZWN0aW9uOjg2NzY3NzUz/version_details/v2' target=\"_blank\">https://wandb.ai/matt24/sd-profiler/jobs/QXJ0aWZhY3RDb2xsZWN0aW9uOjg2NzY3NzUz/version_details/v2</a><br/>Synced 4 W&B file(s), 0 media file(s), 0 artifact file(s) and 0 other file(s)"
      ],
      "text/plain": [
       "<IPython.core.display.HTML object>"
      ]
     },
     "metadata": {},
     "output_type": "display_data"
    },
    {
     "data": {
      "text/html": [
       "Find logs at: <code>./wandb/run-20230731_064248-bgl1jtol/logs</code>"
      ],
      "text/plain": [
       "<IPython.core.display.HTML object>"
      ]
     },
     "metadata": {},
     "output_type": "display_data"
    },
    {
     "name": "stdout",
     "output_type": "stream",
     "text": [
      "Word count: 58\n",
      "Token count: 68\n",
      "Elapsed time: 3.16 seconds\n",
      "CUDA Model size: 2.6 GB\n",
      "CUDA Memory Allocated: 0.0 GB\n",
      "CUDA Memory Inference: 0.6 GB\n"
     ]
    },
    {
     "data": {
      "application/vnd.jupyter.widget-view+json": {
       "model_id": "508103c42fbd40ec997ff73ec0e6a94c",
       "version_major": 2,
       "version_minor": 0
      },
      "text/plain": [
       "VBox(children=(Label(value='Waiting for wandb.init()...\\r'), FloatProgress(value=0.016670833217600982, max=1.0…"
      ]
     },
     "metadata": {},
     "output_type": "display_data"
    },
    {
     "data": {
      "text/html": [
       "Tracking run with wandb version 0.15.7"
      ],
      "text/plain": [
       "<IPython.core.display.HTML object>"
      ]
     },
     "metadata": {},
     "output_type": "display_data"
    },
    {
     "data": {
      "text/html": [
       "Run data is saved locally in <code>/workspace/stable-diffusions/wandb/run-20230731_064258-hzm5otu0</code>"
      ],
      "text/plain": [
       "<IPython.core.display.HTML object>"
      ]
     },
     "metadata": {},
     "output_type": "display_data"
    },
    {
     "data": {
      "text/html": [
       "Syncing run <strong><a href='https://wandb.ai/matt24/sd-profiler/runs/hzm5otu0' target=\"_blank\">volcanic-cherry-72</a></strong> to <a href='https://wandb.ai/matt24/sd-profiler' target=\"_blank\">Weights & Biases</a> (<a href='https://wandb.me/run' target=\"_blank\">docs</a>)<br/>"
      ],
      "text/plain": [
       "<IPython.core.display.HTML object>"
      ]
     },
     "metadata": {},
     "output_type": "display_data"
    },
    {
     "data": {
      "text/html": [
       " View project at <a href='https://wandb.ai/matt24/sd-profiler' target=\"_blank\">https://wandb.ai/matt24/sd-profiler</a>"
      ],
      "text/plain": [
       "<IPython.core.display.HTML object>"
      ]
     },
     "metadata": {},
     "output_type": "display_data"
    },
    {
     "data": {
      "text/html": [
       " View run at <a href='https://wandb.ai/matt24/sd-profiler/runs/hzm5otu0' target=\"_blank\">https://wandb.ai/matt24/sd-profiler/runs/hzm5otu0</a>"
      ],
      "text/plain": [
       "<IPython.core.display.HTML object>"
      ]
     },
     "metadata": {},
     "output_type": "display_data"
    },
    {
     "data": {
      "application/vnd.jupyter.widget-view+json": {
       "model_id": "68277c51cc754eb9be033b896e36cddc",
       "version_major": 2,
       "version_minor": 0
      },
      "text/plain": [
       "  0%|          | 0/60 [00:00<?, ?it/s]"
      ]
     },
     "metadata": {},
     "output_type": "display_data"
    },
    {
     "data": {
      "text/html": [
       "Waiting for W&B process to finish... <strong style=\"color:green\">(success).</strong>"
      ],
      "text/plain": [
       "<IPython.core.display.HTML object>"
      ]
     },
     "metadata": {},
     "output_type": "display_data"
    },
    {
     "data": {
      "application/vnd.jupyter.widget-view+json": {
       "model_id": "f75b13d5990e403090e2cd7db4f29708",
       "version_major": 2,
       "version_minor": 0
      },
      "text/plain": [
       "VBox(children=(Label(value='0.004 MB of 0.004 MB uploaded (0.000 MB deduped)\\r'), FloatProgress(value=1.0, max…"
      ]
     },
     "metadata": {},
     "output_type": "display_data"
    },
    {
     "data": {
      "text/html": [
       " View run <strong style=\"color:#cdcd00\">volcanic-cherry-72</strong> at: <a href='https://wandb.ai/matt24/sd-profiler/runs/hzm5otu0' target=\"_blank\">https://wandb.ai/matt24/sd-profiler/runs/hzm5otu0</a><br/> View job at <a href='https://wandb.ai/matt24/sd-profiler/jobs/QXJ0aWZhY3RDb2xsZWN0aW9uOjg2NzY3NzUz/version_details/v2' target=\"_blank\">https://wandb.ai/matt24/sd-profiler/jobs/QXJ0aWZhY3RDb2xsZWN0aW9uOjg2NzY3NzUz/version_details/v2</a><br/>Synced 4 W&B file(s), 0 media file(s), 0 artifact file(s) and 0 other file(s)"
      ],
      "text/plain": [
       "<IPython.core.display.HTML object>"
      ]
     },
     "metadata": {},
     "output_type": "display_data"
    },
    {
     "data": {
      "text/html": [
       "Find logs at: <code>./wandb/run-20230731_064258-hzm5otu0/logs</code>"
      ],
      "text/plain": [
       "<IPython.core.display.HTML object>"
      ]
     },
     "metadata": {},
     "output_type": "display_data"
    },
    {
     "name": "stdout",
     "output_type": "stream",
     "text": [
      "Word count: 58\n",
      "Token count: 68\n",
      "Elapsed time: 4.5 seconds\n",
      "CUDA Model size: 2.6 GB\n",
      "CUDA Memory Allocated: 0.0 GB\n",
      "CUDA Memory Inference: 0.6 GB\n"
     ]
    },
    {
     "data": {
      "application/vnd.jupyter.widget-view+json": {
       "model_id": "ac1ea81d12a942f09681d1055af7eeca",
       "version_major": 2,
       "version_minor": 0
      },
      "text/plain": [
       "VBox(children=(Label(value='Waiting for wandb.init()...\\r'), FloatProgress(value=0.01666942241912087, max=1.0)…"
      ]
     },
     "metadata": {},
     "output_type": "display_data"
    },
    {
     "data": {
      "text/html": [
       "Tracking run with wandb version 0.15.7"
      ],
      "text/plain": [
       "<IPython.core.display.HTML object>"
      ]
     },
     "metadata": {},
     "output_type": "display_data"
    },
    {
     "data": {
      "text/html": [
       "Run data is saved locally in <code>/workspace/stable-diffusions/wandb/run-20230731_064308-dxfoo2z9</code>"
      ],
      "text/plain": [
       "<IPython.core.display.HTML object>"
      ]
     },
     "metadata": {},
     "output_type": "display_data"
    },
    {
     "data": {
      "text/html": [
       "Syncing run <strong><a href='https://wandb.ai/matt24/sd-profiler/runs/dxfoo2z9' target=\"_blank\">jumping-wind-73</a></strong> to <a href='https://wandb.ai/matt24/sd-profiler' target=\"_blank\">Weights & Biases</a> (<a href='https://wandb.me/run' target=\"_blank\">docs</a>)<br/>"
      ],
      "text/plain": [
       "<IPython.core.display.HTML object>"
      ]
     },
     "metadata": {},
     "output_type": "display_data"
    },
    {
     "data": {
      "text/html": [
       " View project at <a href='https://wandb.ai/matt24/sd-profiler' target=\"_blank\">https://wandb.ai/matt24/sd-profiler</a>"
      ],
      "text/plain": [
       "<IPython.core.display.HTML object>"
      ]
     },
     "metadata": {},
     "output_type": "display_data"
    },
    {
     "data": {
      "text/html": [
       " View run at <a href='https://wandb.ai/matt24/sd-profiler/runs/dxfoo2z9' target=\"_blank\">https://wandb.ai/matt24/sd-profiler/runs/dxfoo2z9</a>"
      ],
      "text/plain": [
       "<IPython.core.display.HTML object>"
      ]
     },
     "metadata": {},
     "output_type": "display_data"
    },
    {
     "data": {
      "application/vnd.jupyter.widget-view+json": {
       "model_id": "9ad5f03df67044a09085df8e29ae36a7",
       "version_major": 2,
       "version_minor": 0
      },
      "text/plain": [
       "  0%|          | 0/60 [00:00<?, ?it/s]"
      ]
     },
     "metadata": {},
     "output_type": "display_data"
    },
    {
     "data": {
      "text/html": [
       "Waiting for W&B process to finish... <strong style=\"color:green\">(success).</strong>"
      ],
      "text/plain": [
       "<IPython.core.display.HTML object>"
      ]
     },
     "metadata": {},
     "output_type": "display_data"
    },
    {
     "data": {
      "application/vnd.jupyter.widget-view+json": {
       "model_id": "3f22f9395d144e0294fc9737982cff6d",
       "version_major": 2,
       "version_minor": 0
      },
      "text/plain": [
       "VBox(children=(Label(value='0.004 MB of 0.004 MB uploaded (0.000 MB deduped)\\r'), FloatProgress(value=1.0, max…"
      ]
     },
     "metadata": {},
     "output_type": "display_data"
    },
    {
     "data": {
      "text/html": [
       " View run <strong style=\"color:#cdcd00\">jumping-wind-73</strong> at: <a href='https://wandb.ai/matt24/sd-profiler/runs/dxfoo2z9' target=\"_blank\">https://wandb.ai/matt24/sd-profiler/runs/dxfoo2z9</a><br/> View job at <a href='https://wandb.ai/matt24/sd-profiler/jobs/QXJ0aWZhY3RDb2xsZWN0aW9uOjg2NzY3NzUz/version_details/v2' target=\"_blank\">https://wandb.ai/matt24/sd-profiler/jobs/QXJ0aWZhY3RDb2xsZWN0aW9uOjg2NzY3NzUz/version_details/v2</a><br/>Synced 4 W&B file(s), 0 media file(s), 0 artifact file(s) and 0 other file(s)"
      ],
      "text/plain": [
       "<IPython.core.display.HTML object>"
      ]
     },
     "metadata": {},
     "output_type": "display_data"
    },
    {
     "data": {
      "text/html": [
       "Find logs at: <code>./wandb/run-20230731_064308-dxfoo2z9/logs</code>"
      ],
      "text/plain": [
       "<IPython.core.display.HTML object>"
      ]
     },
     "metadata": {},
     "output_type": "display_data"
    },
    {
     "name": "stdout",
     "output_type": "stream",
     "text": [
      "Word count: 58\n",
      "Token count: 68\n",
      "Elapsed time: 4.48 seconds\n",
      "CUDA Model size: 2.6 GB\n",
      "CUDA Memory Allocated: 0.0 GB\n",
      "CUDA Memory Inference: 0.6 GB\n"
     ]
    },
    {
     "data": {
      "application/vnd.jupyter.widget-view+json": {
       "model_id": "bd8cd9c40f1f4e58904a7a4fc5f59c74",
       "version_major": 2,
       "version_minor": 0
      },
      "text/plain": [
       "VBox(children=(Label(value='Waiting for wandb.init()...\\r'), FloatProgress(value=0.016670805308967827, max=1.0…"
      ]
     },
     "metadata": {},
     "output_type": "display_data"
    },
    {
     "data": {
      "text/html": [
       "Tracking run with wandb version 0.15.7"
      ],
      "text/plain": [
       "<IPython.core.display.HTML object>"
      ]
     },
     "metadata": {},
     "output_type": "display_data"
    },
    {
     "data": {
      "text/html": [
       "Run data is saved locally in <code>/workspace/stable-diffusions/wandb/run-20230731_064318-kjl1ocho</code>"
      ],
      "text/plain": [
       "<IPython.core.display.HTML object>"
      ]
     },
     "metadata": {},
     "output_type": "display_data"
    },
    {
     "data": {
      "text/html": [
       "Syncing run <strong><a href='https://wandb.ai/matt24/sd-profiler/runs/kjl1ocho' target=\"_blank\">smart-waterfall-74</a></strong> to <a href='https://wandb.ai/matt24/sd-profiler' target=\"_blank\">Weights & Biases</a> (<a href='https://wandb.me/run' target=\"_blank\">docs</a>)<br/>"
      ],
      "text/plain": [
       "<IPython.core.display.HTML object>"
      ]
     },
     "metadata": {},
     "output_type": "display_data"
    },
    {
     "data": {
      "text/html": [
       " View project at <a href='https://wandb.ai/matt24/sd-profiler' target=\"_blank\">https://wandb.ai/matt24/sd-profiler</a>"
      ],
      "text/plain": [
       "<IPython.core.display.HTML object>"
      ]
     },
     "metadata": {},
     "output_type": "display_data"
    },
    {
     "data": {
      "text/html": [
       " View run at <a href='https://wandb.ai/matt24/sd-profiler/runs/kjl1ocho' target=\"_blank\">https://wandb.ai/matt24/sd-profiler/runs/kjl1ocho</a>"
      ],
      "text/plain": [
       "<IPython.core.display.HTML object>"
      ]
     },
     "metadata": {},
     "output_type": "display_data"
    },
    {
     "data": {
      "application/vnd.jupyter.widget-view+json": {
       "model_id": "0d2d33543b674a67813c4b23aae0c52f",
       "version_major": 2,
       "version_minor": 0
      },
      "text/plain": [
       "  0%|          | 0/60 [00:00<?, ?it/s]"
      ]
     },
     "metadata": {},
     "output_type": "display_data"
    },
    {
     "data": {
      "text/html": [
       "Waiting for W&B process to finish... <strong style=\"color:green\">(success).</strong>"
      ],
      "text/plain": [
       "<IPython.core.display.HTML object>"
      ]
     },
     "metadata": {},
     "output_type": "display_data"
    },
    {
     "data": {
      "application/vnd.jupyter.widget-view+json": {
       "model_id": "1ec98ed3e517490d9a5599b8c3b4d8b9",
       "version_major": 2,
       "version_minor": 0
      },
      "text/plain": [
       "VBox(children=(Label(value='0.004 MB of 0.004 MB uploaded (0.000 MB deduped)\\r'), FloatProgress(value=1.0, max…"
      ]
     },
     "metadata": {},
     "output_type": "display_data"
    },
    {
     "data": {
      "text/html": [
       " View run <strong style=\"color:#cdcd00\">smart-waterfall-74</strong> at: <a href='https://wandb.ai/matt24/sd-profiler/runs/kjl1ocho' target=\"_blank\">https://wandb.ai/matt24/sd-profiler/runs/kjl1ocho</a><br/> View job at <a href='https://wandb.ai/matt24/sd-profiler/jobs/QXJ0aWZhY3RDb2xsZWN0aW9uOjg2NzY3NzUz/version_details/v2' target=\"_blank\">https://wandb.ai/matt24/sd-profiler/jobs/QXJ0aWZhY3RDb2xsZWN0aW9uOjg2NzY3NzUz/version_details/v2</a><br/>Synced 4 W&B file(s), 0 media file(s), 0 artifact file(s) and 0 other file(s)"
      ],
      "text/plain": [
       "<IPython.core.display.HTML object>"
      ]
     },
     "metadata": {},
     "output_type": "display_data"
    },
    {
     "data": {
      "text/html": [
       "Find logs at: <code>./wandb/run-20230731_064318-kjl1ocho/logs</code>"
      ],
      "text/plain": [
       "<IPython.core.display.HTML object>"
      ]
     },
     "metadata": {},
     "output_type": "display_data"
    },
    {
     "name": "stdout",
     "output_type": "stream",
     "text": [
      "Word count: 58\n",
      "Token count: 68\n",
      "Elapsed time: 4.52 seconds\n",
      "CUDA Model size: 2.6 GB\n",
      "CUDA Memory Allocated: 0.0 GB\n",
      "CUDA Memory Inference: 0.6 GB\n"
     ]
    },
    {
     "data": {
      "application/vnd.jupyter.widget-view+json": {
       "model_id": "3a10da2b84614475840ad9e437bc65d9",
       "version_major": 2,
       "version_minor": 0
      },
      "text/plain": [
       "VBox(children=(Label(value='Waiting for wandb.init()...\\r'), FloatProgress(value=0.01667049800356229, max=1.0)…"
      ]
     },
     "metadata": {},
     "output_type": "display_data"
    },
    {
     "data": {
      "text/html": [
       "Tracking run with wandb version 0.15.7"
      ],
      "text/plain": [
       "<IPython.core.display.HTML object>"
      ]
     },
     "metadata": {},
     "output_type": "display_data"
    },
    {
     "data": {
      "text/html": [
       "Run data is saved locally in <code>/workspace/stable-diffusions/wandb/run-20230731_064328-2lvts2h0</code>"
      ],
      "text/plain": [
       "<IPython.core.display.HTML object>"
      ]
     },
     "metadata": {},
     "output_type": "display_data"
    },
    {
     "data": {
      "text/html": [
       "Syncing run <strong><a href='https://wandb.ai/matt24/sd-profiler/runs/2lvts2h0' target=\"_blank\">devout-firefly-75</a></strong> to <a href='https://wandb.ai/matt24/sd-profiler' target=\"_blank\">Weights & Biases</a> (<a href='https://wandb.me/run' target=\"_blank\">docs</a>)<br/>"
      ],
      "text/plain": [
       "<IPython.core.display.HTML object>"
      ]
     },
     "metadata": {},
     "output_type": "display_data"
    },
    {
     "data": {
      "text/html": [
       " View project at <a href='https://wandb.ai/matt24/sd-profiler' target=\"_blank\">https://wandb.ai/matt24/sd-profiler</a>"
      ],
      "text/plain": [
       "<IPython.core.display.HTML object>"
      ]
     },
     "metadata": {},
     "output_type": "display_data"
    },
    {
     "data": {
      "text/html": [
       " View run at <a href='https://wandb.ai/matt24/sd-profiler/runs/2lvts2h0' target=\"_blank\">https://wandb.ai/matt24/sd-profiler/runs/2lvts2h0</a>"
      ],
      "text/plain": [
       "<IPython.core.display.HTML object>"
      ]
     },
     "metadata": {},
     "output_type": "display_data"
    },
    {
     "data": {
      "application/vnd.jupyter.widget-view+json": {
       "model_id": "e83fdf77f6da42b9a845e970f1951242",
       "version_major": 2,
       "version_minor": 0
      },
      "text/plain": [
       "  0%|          | 0/60 [00:00<?, ?it/s]"
      ]
     },
     "metadata": {},
     "output_type": "display_data"
    },
    {
     "data": {
      "text/html": [
       "Waiting for W&B process to finish... <strong style=\"color:green\">(success).</strong>"
      ],
      "text/plain": [
       "<IPython.core.display.HTML object>"
      ]
     },
     "metadata": {},
     "output_type": "display_data"
    },
    {
     "data": {
      "application/vnd.jupyter.widget-view+json": {
       "model_id": "3242efc0c8644117910b722e8442bbf1",
       "version_major": 2,
       "version_minor": 0
      },
      "text/plain": [
       "VBox(children=(Label(value='0.004 MB of 0.004 MB uploaded (0.000 MB deduped)\\r'), FloatProgress(value=1.0, max…"
      ]
     },
     "metadata": {},
     "output_type": "display_data"
    },
    {
     "data": {
      "text/html": [
       " View run <strong style=\"color:#cdcd00\">devout-firefly-75</strong> at: <a href='https://wandb.ai/matt24/sd-profiler/runs/2lvts2h0' target=\"_blank\">https://wandb.ai/matt24/sd-profiler/runs/2lvts2h0</a><br/> View job at <a href='https://wandb.ai/matt24/sd-profiler/jobs/QXJ0aWZhY3RDb2xsZWN0aW9uOjg2NzY3NzUz/version_details/v2' target=\"_blank\">https://wandb.ai/matt24/sd-profiler/jobs/QXJ0aWZhY3RDb2xsZWN0aW9uOjg2NzY3NzUz/version_details/v2</a><br/>Synced 4 W&B file(s), 0 media file(s), 0 artifact file(s) and 0 other file(s)"
      ],
      "text/plain": [
       "<IPython.core.display.HTML object>"
      ]
     },
     "metadata": {},
     "output_type": "display_data"
    },
    {
     "data": {
      "text/html": [
       "Find logs at: <code>./wandb/run-20230731_064328-2lvts2h0/logs</code>"
      ],
      "text/plain": [
       "<IPython.core.display.HTML object>"
      ]
     },
     "metadata": {},
     "output_type": "display_data"
    },
    {
     "name": "stdout",
     "output_type": "stream",
     "text": [
      "Word count: 58\n",
      "Token count: 68\n",
      "Elapsed time: 4.6 seconds\n",
      "CUDA Model size: 2.6 GB\n",
      "CUDA Memory Allocated: 0.0 GB\n",
      "CUDA Memory Inference: 0.6 GB\n"
     ]
    },
    {
     "data": {
      "application/vnd.jupyter.widget-view+json": {
       "model_id": "bc50ff7232a3421eb584eccc672a5296",
       "version_major": 2,
       "version_minor": 0
      },
      "text/plain": [
       "VBox(children=(Label(value='Waiting for wandb.init()...\\r'), FloatProgress(value=0.01667113120978077, max=1.0)…"
      ]
     },
     "metadata": {},
     "output_type": "display_data"
    },
    {
     "data": {
      "text/html": [
       "Tracking run with wandb version 0.15.7"
      ],
      "text/plain": [
       "<IPython.core.display.HTML object>"
      ]
     },
     "metadata": {},
     "output_type": "display_data"
    },
    {
     "data": {
      "text/html": [
       "Run data is saved locally in <code>/workspace/stable-diffusions/wandb/run-20230731_064340-dkhihht0</code>"
      ],
      "text/plain": [
       "<IPython.core.display.HTML object>"
      ]
     },
     "metadata": {},
     "output_type": "display_data"
    },
    {
     "data": {
      "text/html": [
       "Syncing run <strong><a href='https://wandb.ai/matt24/sd-profiler/runs/dkhihht0' target=\"_blank\">feasible-salad-76</a></strong> to <a href='https://wandb.ai/matt24/sd-profiler' target=\"_blank\">Weights & Biases</a> (<a href='https://wandb.me/run' target=\"_blank\">docs</a>)<br/>"
      ],
      "text/plain": [
       "<IPython.core.display.HTML object>"
      ]
     },
     "metadata": {},
     "output_type": "display_data"
    },
    {
     "data": {
      "text/html": [
       " View project at <a href='https://wandb.ai/matt24/sd-profiler' target=\"_blank\">https://wandb.ai/matt24/sd-profiler</a>"
      ],
      "text/plain": [
       "<IPython.core.display.HTML object>"
      ]
     },
     "metadata": {},
     "output_type": "display_data"
    },
    {
     "data": {
      "text/html": [
       " View run at <a href='https://wandb.ai/matt24/sd-profiler/runs/dkhihht0' target=\"_blank\">https://wandb.ai/matt24/sd-profiler/runs/dkhihht0</a>"
      ],
      "text/plain": [
       "<IPython.core.display.HTML object>"
      ]
     },
     "metadata": {},
     "output_type": "display_data"
    },
    {
     "data": {
      "application/vnd.jupyter.widget-view+json": {
       "model_id": "c67aa1bdd37a47e490bb0be85202c83a",
       "version_major": 2,
       "version_minor": 0
      },
      "text/plain": [
       "  0%|          | 0/80 [00:00<?, ?it/s]"
      ]
     },
     "metadata": {},
     "output_type": "display_data"
    },
    {
     "data": {
      "text/html": [
       "Waiting for W&B process to finish... <strong style=\"color:green\">(success).</strong>"
      ],
      "text/plain": [
       "<IPython.core.display.HTML object>"
      ]
     },
     "metadata": {},
     "output_type": "display_data"
    },
    {
     "data": {
      "application/vnd.jupyter.widget-view+json": {
       "model_id": "4808762421e246e3b34b0adb70a56868",
       "version_major": 2,
       "version_minor": 0
      },
      "text/plain": [
       "VBox(children=(Label(value='0.004 MB of 0.004 MB uploaded (0.000 MB deduped)\\r'), FloatProgress(value=1.0, max…"
      ]
     },
     "metadata": {},
     "output_type": "display_data"
    },
    {
     "data": {
      "text/html": [
       " View run <strong style=\"color:#cdcd00\">feasible-salad-76</strong> at: <a href='https://wandb.ai/matt24/sd-profiler/runs/dkhihht0' target=\"_blank\">https://wandb.ai/matt24/sd-profiler/runs/dkhihht0</a><br/> View job at <a href='https://wandb.ai/matt24/sd-profiler/jobs/QXJ0aWZhY3RDb2xsZWN0aW9uOjg2NzY3NzUz/version_details/v2' target=\"_blank\">https://wandb.ai/matt24/sd-profiler/jobs/QXJ0aWZhY3RDb2xsZWN0aW9uOjg2NzY3NzUz/version_details/v2</a><br/>Synced 4 W&B file(s), 0 media file(s), 0 artifact file(s) and 0 other file(s)"
      ],
      "text/plain": [
       "<IPython.core.display.HTML object>"
      ]
     },
     "metadata": {},
     "output_type": "display_data"
    },
    {
     "data": {
      "text/html": [
       "Find logs at: <code>./wandb/run-20230731_064340-dkhihht0/logs</code>"
      ],
      "text/plain": [
       "<IPython.core.display.HTML object>"
      ]
     },
     "metadata": {},
     "output_type": "display_data"
    },
    {
     "name": "stdout",
     "output_type": "stream",
     "text": [
      "Word count: 58\n",
      "Token count: 68\n",
      "Elapsed time: 5.93 seconds\n",
      "CUDA Model size: 2.6 GB\n",
      "CUDA Memory Allocated: 0.0 GB\n",
      "CUDA Memory Inference: 0.6 GB\n"
     ]
    },
    {
     "data": {
      "application/vnd.jupyter.widget-view+json": {
       "model_id": "8bc8fd8b42e44b1882d25e2e952d2012",
       "version_major": 2,
       "version_minor": 0
      },
      "text/plain": [
       "VBox(children=(Label(value='Waiting for wandb.init()...\\r'), FloatProgress(value=0.016671489737927914, max=1.0…"
      ]
     },
     "metadata": {},
     "output_type": "display_data"
    },
    {
     "data": {
      "text/html": [
       "Tracking run with wandb version 0.15.7"
      ],
      "text/plain": [
       "<IPython.core.display.HTML object>"
      ]
     },
     "metadata": {},
     "output_type": "display_data"
    },
    {
     "data": {
      "text/html": [
       "Run data is saved locally in <code>/workspace/stable-diffusions/wandb/run-20230731_064352-xzrbryhm</code>"
      ],
      "text/plain": [
       "<IPython.core.display.HTML object>"
      ]
     },
     "metadata": {},
     "output_type": "display_data"
    },
    {
     "data": {
      "text/html": [
       "Syncing run <strong><a href='https://wandb.ai/matt24/sd-profiler/runs/xzrbryhm' target=\"_blank\">polar-field-77</a></strong> to <a href='https://wandb.ai/matt24/sd-profiler' target=\"_blank\">Weights & Biases</a> (<a href='https://wandb.me/run' target=\"_blank\">docs</a>)<br/>"
      ],
      "text/plain": [
       "<IPython.core.display.HTML object>"
      ]
     },
     "metadata": {},
     "output_type": "display_data"
    },
    {
     "data": {
      "text/html": [
       " View project at <a href='https://wandb.ai/matt24/sd-profiler' target=\"_blank\">https://wandb.ai/matt24/sd-profiler</a>"
      ],
      "text/plain": [
       "<IPython.core.display.HTML object>"
      ]
     },
     "metadata": {},
     "output_type": "display_data"
    },
    {
     "data": {
      "text/html": [
       " View run at <a href='https://wandb.ai/matt24/sd-profiler/runs/xzrbryhm' target=\"_blank\">https://wandb.ai/matt24/sd-profiler/runs/xzrbryhm</a>"
      ],
      "text/plain": [
       "<IPython.core.display.HTML object>"
      ]
     },
     "metadata": {},
     "output_type": "display_data"
    },
    {
     "data": {
      "application/vnd.jupyter.widget-view+json": {
       "model_id": "a79a19c42c4842e591aff98e49054650",
       "version_major": 2,
       "version_minor": 0
      },
      "text/plain": [
       "  0%|          | 0/80 [00:00<?, ?it/s]"
      ]
     },
     "metadata": {},
     "output_type": "display_data"
    },
    {
     "data": {
      "text/html": [
       "Waiting for W&B process to finish... <strong style=\"color:green\">(success).</strong>"
      ],
      "text/plain": [
       "<IPython.core.display.HTML object>"
      ]
     },
     "metadata": {},
     "output_type": "display_data"
    },
    {
     "data": {
      "application/vnd.jupyter.widget-view+json": {
       "model_id": "d67cb2b524164e5985f6257960c097aa",
       "version_major": 2,
       "version_minor": 0
      },
      "text/plain": [
       "VBox(children=(Label(value='0.004 MB of 0.004 MB uploaded (0.000 MB deduped)\\r'), FloatProgress(value=1.0, max…"
      ]
     },
     "metadata": {},
     "output_type": "display_data"
    },
    {
     "data": {
      "text/html": [
       " View run <strong style=\"color:#cdcd00\">polar-field-77</strong> at: <a href='https://wandb.ai/matt24/sd-profiler/runs/xzrbryhm' target=\"_blank\">https://wandb.ai/matt24/sd-profiler/runs/xzrbryhm</a><br/> View job at <a href='https://wandb.ai/matt24/sd-profiler/jobs/QXJ0aWZhY3RDb2xsZWN0aW9uOjg2NzY3NzUz/version_details/v2' target=\"_blank\">https://wandb.ai/matt24/sd-profiler/jobs/QXJ0aWZhY3RDb2xsZWN0aW9uOjg2NzY3NzUz/version_details/v2</a><br/>Synced 4 W&B file(s), 0 media file(s), 0 artifact file(s) and 0 other file(s)"
      ],
      "text/plain": [
       "<IPython.core.display.HTML object>"
      ]
     },
     "metadata": {},
     "output_type": "display_data"
    },
    {
     "data": {
      "text/html": [
       "Find logs at: <code>./wandb/run-20230731_064352-xzrbryhm/logs</code>"
      ],
      "text/plain": [
       "<IPython.core.display.HTML object>"
      ]
     },
     "metadata": {},
     "output_type": "display_data"
    },
    {
     "name": "stdout",
     "output_type": "stream",
     "text": [
      "Word count: 58\n",
      "Token count: 68\n",
      "Elapsed time: 5.92 seconds\n",
      "CUDA Model size: 2.6 GB\n",
      "CUDA Memory Allocated: 0.0 GB\n",
      "CUDA Memory Inference: 0.6 GB\n"
     ]
    },
    {
     "data": {
      "application/vnd.jupyter.widget-view+json": {
       "model_id": "2126fb2e489c46e79f82404b54bb1221",
       "version_major": 2,
       "version_minor": 0
      },
      "text/plain": [
       "VBox(children=(Label(value='Waiting for wandb.init()...\\r'), FloatProgress(value=0.016670884440342586, max=1.0…"
      ]
     },
     "metadata": {},
     "output_type": "display_data"
    },
    {
     "data": {
      "text/html": [
       "Tracking run with wandb version 0.15.7"
      ],
      "text/plain": [
       "<IPython.core.display.HTML object>"
      ]
     },
     "metadata": {},
     "output_type": "display_data"
    },
    {
     "data": {
      "text/html": [
       "Run data is saved locally in <code>/workspace/stable-diffusions/wandb/run-20230731_064403-b6vkxzus</code>"
      ],
      "text/plain": [
       "<IPython.core.display.HTML object>"
      ]
     },
     "metadata": {},
     "output_type": "display_data"
    },
    {
     "data": {
      "text/html": [
       "Syncing run <strong><a href='https://wandb.ai/matt24/sd-profiler/runs/b6vkxzus' target=\"_blank\">fearless-sound-78</a></strong> to <a href='https://wandb.ai/matt24/sd-profiler' target=\"_blank\">Weights & Biases</a> (<a href='https://wandb.me/run' target=\"_blank\">docs</a>)<br/>"
      ],
      "text/plain": [
       "<IPython.core.display.HTML object>"
      ]
     },
     "metadata": {},
     "output_type": "display_data"
    },
    {
     "data": {
      "text/html": [
       " View project at <a href='https://wandb.ai/matt24/sd-profiler' target=\"_blank\">https://wandb.ai/matt24/sd-profiler</a>"
      ],
      "text/plain": [
       "<IPython.core.display.HTML object>"
      ]
     },
     "metadata": {},
     "output_type": "display_data"
    },
    {
     "data": {
      "text/html": [
       " View run at <a href='https://wandb.ai/matt24/sd-profiler/runs/b6vkxzus' target=\"_blank\">https://wandb.ai/matt24/sd-profiler/runs/b6vkxzus</a>"
      ],
      "text/plain": [
       "<IPython.core.display.HTML object>"
      ]
     },
     "metadata": {},
     "output_type": "display_data"
    },
    {
     "data": {
      "application/vnd.jupyter.widget-view+json": {
       "model_id": "0e87558e1016433bb9ef5903c06d46e4",
       "version_major": 2,
       "version_minor": 0
      },
      "text/plain": [
       "  0%|          | 0/80 [00:00<?, ?it/s]"
      ]
     },
     "metadata": {},
     "output_type": "display_data"
    },
    {
     "data": {
      "text/html": [
       "Waiting for W&B process to finish... <strong style=\"color:green\">(success).</strong>"
      ],
      "text/plain": [
       "<IPython.core.display.HTML object>"
      ]
     },
     "metadata": {},
     "output_type": "display_data"
    },
    {
     "data": {
      "application/vnd.jupyter.widget-view+json": {
       "model_id": "d7d9b051a9ea4b0083511ee7cc239cf9",
       "version_major": 2,
       "version_minor": 0
      },
      "text/plain": [
       "VBox(children=(Label(value='0.004 MB of 0.004 MB uploaded (0.000 MB deduped)\\r'), FloatProgress(value=1.0, max…"
      ]
     },
     "metadata": {},
     "output_type": "display_data"
    },
    {
     "data": {
      "text/html": [
       " View run <strong style=\"color:#cdcd00\">fearless-sound-78</strong> at: <a href='https://wandb.ai/matt24/sd-profiler/runs/b6vkxzus' target=\"_blank\">https://wandb.ai/matt24/sd-profiler/runs/b6vkxzus</a><br/> View job at <a href='https://wandb.ai/matt24/sd-profiler/jobs/QXJ0aWZhY3RDb2xsZWN0aW9uOjg2NzY3NzUz/version_details/v2' target=\"_blank\">https://wandb.ai/matt24/sd-profiler/jobs/QXJ0aWZhY3RDb2xsZWN0aW9uOjg2NzY3NzUz/version_details/v2</a><br/>Synced 4 W&B file(s), 0 media file(s), 0 artifact file(s) and 0 other file(s)"
      ],
      "text/plain": [
       "<IPython.core.display.HTML object>"
      ]
     },
     "metadata": {},
     "output_type": "display_data"
    },
    {
     "data": {
      "text/html": [
       "Find logs at: <code>./wandb/run-20230731_064403-b6vkxzus/logs</code>"
      ],
      "text/plain": [
       "<IPython.core.display.HTML object>"
      ]
     },
     "metadata": {},
     "output_type": "display_data"
    },
    {
     "name": "stdout",
     "output_type": "stream",
     "text": [
      "Word count: 58\n",
      "Token count: 68\n",
      "Elapsed time: 5.9 seconds\n",
      "CUDA Model size: 2.6 GB\n",
      "CUDA Memory Allocated: 0.0 GB\n",
      "CUDA Memory Inference: 0.6 GB\n"
     ]
    },
    {
     "data": {
      "application/vnd.jupyter.widget-view+json": {
       "model_id": "62c678ff26f94bcbbcc85fd1cd165db3",
       "version_major": 2,
       "version_minor": 0
      },
      "text/plain": [
       "VBox(children=(Label(value='Waiting for wandb.init()...\\r'), FloatProgress(value=0.01667061907549699, max=1.0)…"
      ]
     },
     "metadata": {},
     "output_type": "display_data"
    },
    {
     "data": {
      "text/html": [
       "Tracking run with wandb version 0.15.7"
      ],
      "text/plain": [
       "<IPython.core.display.HTML object>"
      ]
     },
     "metadata": {},
     "output_type": "display_data"
    },
    {
     "data": {
      "text/html": [
       "Run data is saved locally in <code>/workspace/stable-diffusions/wandb/run-20230731_064415-3rrlsmcs</code>"
      ],
      "text/plain": [
       "<IPython.core.display.HTML object>"
      ]
     },
     "metadata": {},
     "output_type": "display_data"
    },
    {
     "data": {
      "text/html": [
       "Syncing run <strong><a href='https://wandb.ai/matt24/sd-profiler/runs/3rrlsmcs' target=\"_blank\">balmy-monkey-79</a></strong> to <a href='https://wandb.ai/matt24/sd-profiler' target=\"_blank\">Weights & Biases</a> (<a href='https://wandb.me/run' target=\"_blank\">docs</a>)<br/>"
      ],
      "text/plain": [
       "<IPython.core.display.HTML object>"
      ]
     },
     "metadata": {},
     "output_type": "display_data"
    },
    {
     "data": {
      "text/html": [
       " View project at <a href='https://wandb.ai/matt24/sd-profiler' target=\"_blank\">https://wandb.ai/matt24/sd-profiler</a>"
      ],
      "text/plain": [
       "<IPython.core.display.HTML object>"
      ]
     },
     "metadata": {},
     "output_type": "display_data"
    },
    {
     "data": {
      "text/html": [
       " View run at <a href='https://wandb.ai/matt24/sd-profiler/runs/3rrlsmcs' target=\"_blank\">https://wandb.ai/matt24/sd-profiler/runs/3rrlsmcs</a>"
      ],
      "text/plain": [
       "<IPython.core.display.HTML object>"
      ]
     },
     "metadata": {},
     "output_type": "display_data"
    },
    {
     "data": {
      "application/vnd.jupyter.widget-view+json": {
       "model_id": "a6cd495223c04205935830980ce1f5d2",
       "version_major": 2,
       "version_minor": 0
      },
      "text/plain": [
       "  0%|          | 0/80 [00:00<?, ?it/s]"
      ]
     },
     "metadata": {},
     "output_type": "display_data"
    },
    {
     "data": {
      "text/html": [
       "Waiting for W&B process to finish... <strong style=\"color:green\">(success).</strong>"
      ],
      "text/plain": [
       "<IPython.core.display.HTML object>"
      ]
     },
     "metadata": {},
     "output_type": "display_data"
    },
    {
     "data": {
      "application/vnd.jupyter.widget-view+json": {
       "model_id": "8b49b5c88ba849c8ae5a1185838b10af",
       "version_major": 2,
       "version_minor": 0
      },
      "text/plain": [
       "VBox(children=(Label(value='0.004 MB of 0.004 MB uploaded (0.000 MB deduped)\\r'), FloatProgress(value=1.0, max…"
      ]
     },
     "metadata": {},
     "output_type": "display_data"
    },
    {
     "data": {
      "text/html": [
       " View run <strong style=\"color:#cdcd00\">balmy-monkey-79</strong> at: <a href='https://wandb.ai/matt24/sd-profiler/runs/3rrlsmcs' target=\"_blank\">https://wandb.ai/matt24/sd-profiler/runs/3rrlsmcs</a><br/> View job at <a href='https://wandb.ai/matt24/sd-profiler/jobs/QXJ0aWZhY3RDb2xsZWN0aW9uOjg2NzY3NzUz/version_details/v2' target=\"_blank\">https://wandb.ai/matt24/sd-profiler/jobs/QXJ0aWZhY3RDb2xsZWN0aW9uOjg2NzY3NzUz/version_details/v2</a><br/>Synced 4 W&B file(s), 0 media file(s), 0 artifact file(s) and 0 other file(s)"
      ],
      "text/plain": [
       "<IPython.core.display.HTML object>"
      ]
     },
     "metadata": {},
     "output_type": "display_data"
    },
    {
     "data": {
      "text/html": [
       "Find logs at: <code>./wandb/run-20230731_064415-3rrlsmcs/logs</code>"
      ],
      "text/plain": [
       "<IPython.core.display.HTML object>"
      ]
     },
     "metadata": {},
     "output_type": "display_data"
    },
    {
     "name": "stdout",
     "output_type": "stream",
     "text": [
      "Word count: 58\n",
      "Token count: 68\n",
      "Elapsed time: 5.97 seconds\n",
      "CUDA Model size: 2.6 GB\n",
      "CUDA Memory Allocated: 0.0 GB\n",
      "CUDA Memory Inference: 0.6 GB\n"
     ]
    },
    {
     "data": {
      "application/vnd.jupyter.widget-view+json": {
       "model_id": "84ba40aadba145639079f61ff9125b7b",
       "version_major": 2,
       "version_minor": 0
      },
      "text/plain": [
       "VBox(children=(Label(value='Waiting for wandb.init()...\\r'), FloatProgress(value=0.016670544538646935, max=1.0…"
      ]
     },
     "metadata": {},
     "output_type": "display_data"
    },
    {
     "data": {
      "text/html": [
       "Tracking run with wandb version 0.15.7"
      ],
      "text/plain": [
       "<IPython.core.display.HTML object>"
      ]
     },
     "metadata": {},
     "output_type": "display_data"
    },
    {
     "data": {
      "text/html": [
       "Run data is saved locally in <code>/workspace/stable-diffusions/wandb/run-20230731_064427-d9liv0bb</code>"
      ],
      "text/plain": [
       "<IPython.core.display.HTML object>"
      ]
     },
     "metadata": {},
     "output_type": "display_data"
    },
    {
     "data": {
      "text/html": [
       "Syncing run <strong><a href='https://wandb.ai/matt24/sd-profiler/runs/d9liv0bb' target=\"_blank\">sleek-water-80</a></strong> to <a href='https://wandb.ai/matt24/sd-profiler' target=\"_blank\">Weights & Biases</a> (<a href='https://wandb.me/run' target=\"_blank\">docs</a>)<br/>"
      ],
      "text/plain": [
       "<IPython.core.display.HTML object>"
      ]
     },
     "metadata": {},
     "output_type": "display_data"
    },
    {
     "data": {
      "text/html": [
       " View project at <a href='https://wandb.ai/matt24/sd-profiler' target=\"_blank\">https://wandb.ai/matt24/sd-profiler</a>"
      ],
      "text/plain": [
       "<IPython.core.display.HTML object>"
      ]
     },
     "metadata": {},
     "output_type": "display_data"
    },
    {
     "data": {
      "text/html": [
       " View run at <a href='https://wandb.ai/matt24/sd-profiler/runs/d9liv0bb' target=\"_blank\">https://wandb.ai/matt24/sd-profiler/runs/d9liv0bb</a>"
      ],
      "text/plain": [
       "<IPython.core.display.HTML object>"
      ]
     },
     "metadata": {},
     "output_type": "display_data"
    },
    {
     "data": {
      "application/vnd.jupyter.widget-view+json": {
       "model_id": "5f4a86998752439da77d9e29e36a98a1",
       "version_major": 2,
       "version_minor": 0
      },
      "text/plain": [
       "  0%|          | 0/100 [00:00<?, ?it/s]"
      ]
     },
     "metadata": {},
     "output_type": "display_data"
    },
    {
     "data": {
      "text/html": [
       "Waiting for W&B process to finish... <strong style=\"color:green\">(success).</strong>"
      ],
      "text/plain": [
       "<IPython.core.display.HTML object>"
      ]
     },
     "metadata": {},
     "output_type": "display_data"
    },
    {
     "data": {
      "application/vnd.jupyter.widget-view+json": {
       "model_id": "20ebc3a7c8e34973a756760b40f3c1b9",
       "version_major": 2,
       "version_minor": 0
      },
      "text/plain": [
       "VBox(children=(Label(value='0.004 MB of 0.004 MB uploaded (0.000 MB deduped)\\r'), FloatProgress(value=1.0, max…"
      ]
     },
     "metadata": {},
     "output_type": "display_data"
    },
    {
     "data": {
      "text/html": [
       " View run <strong style=\"color:#cdcd00\">sleek-water-80</strong> at: <a href='https://wandb.ai/matt24/sd-profiler/runs/d9liv0bb' target=\"_blank\">https://wandb.ai/matt24/sd-profiler/runs/d9liv0bb</a><br/> View job at <a href='https://wandb.ai/matt24/sd-profiler/jobs/QXJ0aWZhY3RDb2xsZWN0aW9uOjg2NzY3NzUz/version_details/v2' target=\"_blank\">https://wandb.ai/matt24/sd-profiler/jobs/QXJ0aWZhY3RDb2xsZWN0aW9uOjg2NzY3NzUz/version_details/v2</a><br/>Synced 4 W&B file(s), 0 media file(s), 0 artifact file(s) and 0 other file(s)"
      ],
      "text/plain": [
       "<IPython.core.display.HTML object>"
      ]
     },
     "metadata": {},
     "output_type": "display_data"
    },
    {
     "data": {
      "text/html": [
       "Find logs at: <code>./wandb/run-20230731_064427-d9liv0bb/logs</code>"
      ],
      "text/plain": [
       "<IPython.core.display.HTML object>"
      ]
     },
     "metadata": {},
     "output_type": "display_data"
    },
    {
     "name": "stdout",
     "output_type": "stream",
     "text": [
      "Word count: 58\n",
      "Token count: 68\n",
      "Elapsed time: 7.3 seconds\n",
      "CUDA Model size: 2.6 GB\n",
      "CUDA Memory Allocated: 0.0 GB\n",
      "CUDA Memory Inference: 0.6 GB\n"
     ]
    },
    {
     "data": {
      "application/vnd.jupyter.widget-view+json": {
       "model_id": "429f4b612b85473a872cd7ae4d6551cb",
       "version_major": 2,
       "version_minor": 0
      },
      "text/plain": [
       "VBox(children=(Label(value='Waiting for wandb.init()...\\r'), FloatProgress(value=0.01667255594705542, max=1.0)…"
      ]
     },
     "metadata": {},
     "output_type": "display_data"
    },
    {
     "data": {
      "text/html": [
       "Tracking run with wandb version 0.15.7"
      ],
      "text/plain": [
       "<IPython.core.display.HTML object>"
      ]
     },
     "metadata": {},
     "output_type": "display_data"
    },
    {
     "data": {
      "text/html": [
       "Run data is saved locally in <code>/workspace/stable-diffusions/wandb/run-20230731_064440-ymtkjmi1</code>"
      ],
      "text/plain": [
       "<IPython.core.display.HTML object>"
      ]
     },
     "metadata": {},
     "output_type": "display_data"
    },
    {
     "data": {
      "text/html": [
       "Syncing run <strong><a href='https://wandb.ai/matt24/sd-profiler/runs/ymtkjmi1' target=\"_blank\">zesty-dust-81</a></strong> to <a href='https://wandb.ai/matt24/sd-profiler' target=\"_blank\">Weights & Biases</a> (<a href='https://wandb.me/run' target=\"_blank\">docs</a>)<br/>"
      ],
      "text/plain": [
       "<IPython.core.display.HTML object>"
      ]
     },
     "metadata": {},
     "output_type": "display_data"
    },
    {
     "data": {
      "text/html": [
       " View project at <a href='https://wandb.ai/matt24/sd-profiler' target=\"_blank\">https://wandb.ai/matt24/sd-profiler</a>"
      ],
      "text/plain": [
       "<IPython.core.display.HTML object>"
      ]
     },
     "metadata": {},
     "output_type": "display_data"
    },
    {
     "data": {
      "text/html": [
       " View run at <a href='https://wandb.ai/matt24/sd-profiler/runs/ymtkjmi1' target=\"_blank\">https://wandb.ai/matt24/sd-profiler/runs/ymtkjmi1</a>"
      ],
      "text/plain": [
       "<IPython.core.display.HTML object>"
      ]
     },
     "metadata": {},
     "output_type": "display_data"
    },
    {
     "data": {
      "application/vnd.jupyter.widget-view+json": {
       "model_id": "e782c06c79b14881acb1f0d68961de84",
       "version_major": 2,
       "version_minor": 0
      },
      "text/plain": [
       "  0%|          | 0/100 [00:00<?, ?it/s]"
      ]
     },
     "metadata": {},
     "output_type": "display_data"
    },
    {
     "data": {
      "text/html": [
       "Waiting for W&B process to finish... <strong style=\"color:green\">(success).</strong>"
      ],
      "text/plain": [
       "<IPython.core.display.HTML object>"
      ]
     },
     "metadata": {},
     "output_type": "display_data"
    },
    {
     "data": {
      "application/vnd.jupyter.widget-view+json": {
       "model_id": "61c5475e39624a4baea6b4d23f295ed9",
       "version_major": 2,
       "version_minor": 0
      },
      "text/plain": [
       "VBox(children=(Label(value='0.004 MB of 0.004 MB uploaded (0.000 MB deduped)\\r'), FloatProgress(value=1.0, max…"
      ]
     },
     "metadata": {},
     "output_type": "display_data"
    },
    {
     "data": {
      "text/html": [
       " View run <strong style=\"color:#cdcd00\">zesty-dust-81</strong> at: <a href='https://wandb.ai/matt24/sd-profiler/runs/ymtkjmi1' target=\"_blank\">https://wandb.ai/matt24/sd-profiler/runs/ymtkjmi1</a><br/> View job at <a href='https://wandb.ai/matt24/sd-profiler/jobs/QXJ0aWZhY3RDb2xsZWN0aW9uOjg2NzY3NzUz/version_details/v2' target=\"_blank\">https://wandb.ai/matt24/sd-profiler/jobs/QXJ0aWZhY3RDb2xsZWN0aW9uOjg2NzY3NzUz/version_details/v2</a><br/>Synced 4 W&B file(s), 0 media file(s), 0 artifact file(s) and 0 other file(s)"
      ],
      "text/plain": [
       "<IPython.core.display.HTML object>"
      ]
     },
     "metadata": {},
     "output_type": "display_data"
    },
    {
     "data": {
      "text/html": [
       "Find logs at: <code>./wandb/run-20230731_064440-ymtkjmi1/logs</code>"
      ],
      "text/plain": [
       "<IPython.core.display.HTML object>"
      ]
     },
     "metadata": {},
     "output_type": "display_data"
    },
    {
     "name": "stdout",
     "output_type": "stream",
     "text": [
      "Word count: 58\n",
      "Token count: 68\n",
      "Elapsed time: 7.4 seconds\n",
      "CUDA Model size: 2.6 GB\n",
      "CUDA Memory Allocated: 0.0 GB\n",
      "CUDA Memory Inference: 0.6 GB\n"
     ]
    },
    {
     "data": {
      "application/vnd.jupyter.widget-view+json": {
       "model_id": "c27ad76607744f3c8fe073277d412959",
       "version_major": 2,
       "version_minor": 0
      },
      "text/plain": [
       "VBox(children=(Label(value='Waiting for wandb.init()...\\r'), FloatProgress(value=0.01666930134718617, max=1.0)…"
      ]
     },
     "metadata": {},
     "output_type": "display_data"
    },
    {
     "data": {
      "text/html": [
       "Tracking run with wandb version 0.15.7"
      ],
      "text/plain": [
       "<IPython.core.display.HTML object>"
      ]
     },
     "metadata": {},
     "output_type": "display_data"
    },
    {
     "data": {
      "text/html": [
       "Run data is saved locally in <code>/workspace/stable-diffusions/wandb/run-20230731_064452-qkeaflqw</code>"
      ],
      "text/plain": [
       "<IPython.core.display.HTML object>"
      ]
     },
     "metadata": {},
     "output_type": "display_data"
    },
    {
     "data": {
      "text/html": [
       "Syncing run <strong><a href='https://wandb.ai/matt24/sd-profiler/runs/qkeaflqw' target=\"_blank\">honest-river-82</a></strong> to <a href='https://wandb.ai/matt24/sd-profiler' target=\"_blank\">Weights & Biases</a> (<a href='https://wandb.me/run' target=\"_blank\">docs</a>)<br/>"
      ],
      "text/plain": [
       "<IPython.core.display.HTML object>"
      ]
     },
     "metadata": {},
     "output_type": "display_data"
    },
    {
     "data": {
      "text/html": [
       " View project at <a href='https://wandb.ai/matt24/sd-profiler' target=\"_blank\">https://wandb.ai/matt24/sd-profiler</a>"
      ],
      "text/plain": [
       "<IPython.core.display.HTML object>"
      ]
     },
     "metadata": {},
     "output_type": "display_data"
    },
    {
     "data": {
      "text/html": [
       " View run at <a href='https://wandb.ai/matt24/sd-profiler/runs/qkeaflqw' target=\"_blank\">https://wandb.ai/matt24/sd-profiler/runs/qkeaflqw</a>"
      ],
      "text/plain": [
       "<IPython.core.display.HTML object>"
      ]
     },
     "metadata": {},
     "output_type": "display_data"
    },
    {
     "data": {
      "application/vnd.jupyter.widget-view+json": {
       "model_id": "d8eb03a583344cbe86e64dd3a39c9533",
       "version_major": 2,
       "version_minor": 0
      },
      "text/plain": [
       "  0%|          | 0/100 [00:00<?, ?it/s]"
      ]
     },
     "metadata": {},
     "output_type": "display_data"
    },
    {
     "data": {
      "text/html": [
       "Waiting for W&B process to finish... <strong style=\"color:green\">(success).</strong>"
      ],
      "text/plain": [
       "<IPython.core.display.HTML object>"
      ]
     },
     "metadata": {},
     "output_type": "display_data"
    },
    {
     "data": {
      "application/vnd.jupyter.widget-view+json": {
       "model_id": "0a48dcf6f9f24c4d906688588e07ed3e",
       "version_major": 2,
       "version_minor": 0
      },
      "text/plain": [
       "VBox(children=(Label(value='0.004 MB of 0.004 MB uploaded (0.000 MB deduped)\\r'), FloatProgress(value=1.0, max…"
      ]
     },
     "metadata": {},
     "output_type": "display_data"
    },
    {
     "data": {
      "text/html": [
       " View run <strong style=\"color:#cdcd00\">honest-river-82</strong> at: <a href='https://wandb.ai/matt24/sd-profiler/runs/qkeaflqw' target=\"_blank\">https://wandb.ai/matt24/sd-profiler/runs/qkeaflqw</a><br/> View job at <a href='https://wandb.ai/matt24/sd-profiler/jobs/QXJ0aWZhY3RDb2xsZWN0aW9uOjg2NzY3NzUz/version_details/v2' target=\"_blank\">https://wandb.ai/matt24/sd-profiler/jobs/QXJ0aWZhY3RDb2xsZWN0aW9uOjg2NzY3NzUz/version_details/v2</a><br/>Synced 4 W&B file(s), 0 media file(s), 0 artifact file(s) and 0 other file(s)"
      ],
      "text/plain": [
       "<IPython.core.display.HTML object>"
      ]
     },
     "metadata": {},
     "output_type": "display_data"
    },
    {
     "data": {
      "text/html": [
       "Find logs at: <code>./wandb/run-20230731_064452-qkeaflqw/logs</code>"
      ],
      "text/plain": [
       "<IPython.core.display.HTML object>"
      ]
     },
     "metadata": {},
     "output_type": "display_data"
    },
    {
     "name": "stdout",
     "output_type": "stream",
     "text": [
      "Word count: 58\n",
      "Token count: 68\n",
      "Elapsed time: 7.4 seconds\n",
      "CUDA Model size: 2.6 GB\n",
      "CUDA Memory Allocated: 0.0 GB\n",
      "CUDA Memory Inference: 0.6 GB\n"
     ]
    },
    {
     "data": {
      "application/vnd.jupyter.widget-view+json": {
       "model_id": "5413b1f1b14c48a7a9442b635583c183",
       "version_major": 2,
       "version_minor": 0
      },
      "text/plain": [
       "VBox(children=(Label(value='Waiting for wandb.init()...\\r'), FloatProgress(value=0.016670665641625722, max=1.0…"
      ]
     },
     "metadata": {},
     "output_type": "display_data"
    },
    {
     "data": {
      "text/html": [
       "Tracking run with wandb version 0.15.7"
      ],
      "text/plain": [
       "<IPython.core.display.HTML object>"
      ]
     },
     "metadata": {},
     "output_type": "display_data"
    },
    {
     "data": {
      "text/html": [
       "Run data is saved locally in <code>/workspace/stable-diffusions/wandb/run-20230731_064509-p5z5hzk5</code>"
      ],
      "text/plain": [
       "<IPython.core.display.HTML object>"
      ]
     },
     "metadata": {},
     "output_type": "display_data"
    },
    {
     "data": {
      "text/html": [
       "Syncing run <strong><a href='https://wandb.ai/matt24/sd-profiler/runs/p5z5hzk5' target=\"_blank\">happy-eon-83</a></strong> to <a href='https://wandb.ai/matt24/sd-profiler' target=\"_blank\">Weights & Biases</a> (<a href='https://wandb.me/run' target=\"_blank\">docs</a>)<br/>"
      ],
      "text/plain": [
       "<IPython.core.display.HTML object>"
      ]
     },
     "metadata": {},
     "output_type": "display_data"
    },
    {
     "data": {
      "text/html": [
       " View project at <a href='https://wandb.ai/matt24/sd-profiler' target=\"_blank\">https://wandb.ai/matt24/sd-profiler</a>"
      ],
      "text/plain": [
       "<IPython.core.display.HTML object>"
      ]
     },
     "metadata": {},
     "output_type": "display_data"
    },
    {
     "data": {
      "text/html": [
       " View run at <a href='https://wandb.ai/matt24/sd-profiler/runs/p5z5hzk5' target=\"_blank\">https://wandb.ai/matt24/sd-profiler/runs/p5z5hzk5</a>"
      ],
      "text/plain": [
       "<IPython.core.display.HTML object>"
      ]
     },
     "metadata": {},
     "output_type": "display_data"
    },
    {
     "data": {
      "application/vnd.jupyter.widget-view+json": {
       "model_id": "83797f8b17e749c2863152b60bb070d4",
       "version_major": 2,
       "version_minor": 0
      },
      "text/plain": [
       "  0%|          | 0/100 [00:00<?, ?it/s]"
      ]
     },
     "metadata": {},
     "output_type": "display_data"
    },
    {
     "data": {
      "text/html": [
       "Waiting for W&B process to finish... <strong style=\"color:green\">(success).</strong>"
      ],
      "text/plain": [
       "<IPython.core.display.HTML object>"
      ]
     },
     "metadata": {},
     "output_type": "display_data"
    },
    {
     "data": {
      "application/vnd.jupyter.widget-view+json": {
       "model_id": "7ef3734b29d24e2cb02ac4354a31f716",
       "version_major": 2,
       "version_minor": 0
      },
      "text/plain": [
       "VBox(children=(Label(value='0.004 MB of 0.004 MB uploaded (0.000 MB deduped)\\r'), FloatProgress(value=1.0, max…"
      ]
     },
     "metadata": {},
     "output_type": "display_data"
    },
    {
     "data": {
      "text/html": [
       " View run <strong style=\"color:#cdcd00\">happy-eon-83</strong> at: <a href='https://wandb.ai/matt24/sd-profiler/runs/p5z5hzk5' target=\"_blank\">https://wandb.ai/matt24/sd-profiler/runs/p5z5hzk5</a><br/> View job at <a href='https://wandb.ai/matt24/sd-profiler/jobs/QXJ0aWZhY3RDb2xsZWN0aW9uOjg2NzY3NzUz/version_details/v2' target=\"_blank\">https://wandb.ai/matt24/sd-profiler/jobs/QXJ0aWZhY3RDb2xsZWN0aW9uOjg2NzY3NzUz/version_details/v2</a><br/>Synced 4 W&B file(s), 0 media file(s), 0 artifact file(s) and 0 other file(s)"
      ],
      "text/plain": [
       "<IPython.core.display.HTML object>"
      ]
     },
     "metadata": {},
     "output_type": "display_data"
    },
    {
     "data": {
      "text/html": [
       "Find logs at: <code>./wandb/run-20230731_064509-p5z5hzk5/logs</code>"
      ],
      "text/plain": [
       "<IPython.core.display.HTML object>"
      ]
     },
     "metadata": {},
     "output_type": "display_data"
    },
    {
     "name": "stdout",
     "output_type": "stream",
     "text": [
      "Word count: 58\n",
      "Token count: 68\n",
      "Elapsed time: 7.49 seconds\n",
      "CUDA Model size: 2.6 GB\n",
      "CUDA Memory Allocated: 0.0 GB\n",
      "CUDA Memory Inference: 0.6 GB\n"
     ]
    }
   ],
   "source": [
    "for inf_step in [20, 40, 60, 80, 100]:\n",
    "    config = {}\n",
    "    \n",
    "    config[\"prompt\"] = \"The most beautiful cat nowadays can be described as a Bengal cat. They have short, smooth and shiny fur with various colors, from orange, brown to gray and black. The highlight of their appearance is the bold black stripes on their fur, creating a wild and charming look. They have big, bright eyes with green or yellow color\"\n",
    "    config[\"word_count\"] = len(config[\"prompt\"].split())\n",
    "    config[\"token_count\"] = len(pipe.tokenizer(config[\"prompt\"])[\"input_ids\"])\n",
    "    \n",
    "    config[\"num_inference_steps\"] = inf_step\n",
    "    config[\"guidance_scale\"] = 7.5\n",
    "    config[\"num_images_per_prompt\"] = 1\n",
    "    \n",
    "    config[\"cpu_count\"] = os.cpu_count()\n",
    "    config[\"gpu_count\"] = torch.cuda.device_count()\n",
    "    config[\"gpu_type\"] = torch.cuda.get_device_name(0)\n",
    "    config[\"cuda_memory_allocated (GB)\"] = round(torch.cuda.memory_allocated() / (1024 ** 3), 2)\n",
    "    \n",
    "    for k, v in pipe.config.items():\n",
    "        if k == \"_name_or_path\":\n",
    "            k = \"model_id\"\n",
    "        \n",
    "        if isinstance(v, tuple):\n",
    "            config[k] = v[1]\n",
    "        else:\n",
    "            config[k] = v\n",
    "\n",
    "    \n",
    "\n",
    "    samples = 4\n",
    "    seeds = []\n",
    "    images = []\n",
    "    \n",
    "    for i in range(samples):\n",
    "        wandb.init(project=PROJECT_NAME, config=config) \n",
    "        seed = random.randint(0, 1e6)\n",
    "        generator = torch.Generator(device).manual_seed(seed)\n",
    "        torch.cuda.empty_cache()\n",
    "        start_cuda_malloc = torch.cuda.memory_allocated()\n",
    "        start_cuda_mres = torch.cuda.memory_reserved()\n",
    "        start_time = time.time()\n",
    "        image = pipe(\n",
    "            prompt = config[\"prompt\"],\n",
    "            num_inference_steps = config[\"num_inference_steps\"],\n",
    "            guidance_scale = config[\"guidance_scale\"],\n",
    "            num_images_per_prompt = config[\"num_images_per_prompt\"],\n",
    "            generator=generator\n",
    "        ).images[0]\n",
    "        end_time = time.time()\n",
    "        end_cuda_malloc = torch.cuda.memory_allocated()\n",
    "        end_cuda_mres = torch.cuda.memory_reserved()\n",
    "        elapsed_time = end_time - start_time\n",
    "        cuda_malloc_usage = (end_cuda_malloc - start_cuda_malloc) / (1024 **3)\n",
    "        cuda_mres_usage = (end_cuda_mres - start_cuda_mres) / (1024 ** 3)\n",
    "        \n",
    "        wandb.config.update({\n",
    "            \"seed\": seed,\n",
    "            \"elapsed_time (seconds)\": round(elapsed_time, 2),\n",
    "            \"cuda_inference_usage (GB)\": round(cuda_mres_usage, 2)    \n",
    "        })\n",
    "        \n",
    "        wandb.finish()\n",
    "    \n",
    "        print(f\"Word count: {len(config['prompt'].split())}\")\n",
    "        print(f\"Token count: {len(pipe.tokenizer(config['prompt'])['input_ids'])}\")\n",
    "        print(f\"Elapsed time: {round(elapsed_time, 2)} seconds\")\n",
    "        print(f\"CUDA Model size: {round(start_cuda_malloc / (1024 ** 3), 2)} GB\")\n",
    "        print(f\"CUDA Memory Allocated: {round(cuda_malloc_usage, 2)} GB\")\n",
    "        print(f\"CUDA Memory Inference: {round(cuda_mres_usage, 2)} GB\")\n",
    "    \n",
    "    #     images.append(image)\n",
    "    #     seeds.append(seed)\n",
    "    \n",
    "    # print(seeds)\n",
    "    # image_grid(images, 1, samples, 512)"
   ]
  },
  {
   "cell_type": "code",
   "execution_count": null,
   "id": "bd150bdc-5931-41f8-9e59-a63b3b52fe4f",
   "metadata": {},
   "outputs": [],
   "source": [
    "# %%time\n",
    "\n",
    "import time\n",
    " \n",
    "\n",
    "samples = 4\n",
    "seeds = []\n",
    "images = []\n",
    "\n",
    "for i in range(samples):\n",
    "    wandb.init(project=PROJECT_NAME, config=config) \n",
    "    seed = random.randint(0, 1e6)\n",
    "    generator = torch.Generator(device).manual_seed(seed)\n",
    "    torch.cuda.empty_cache()\n",
    "    start_cuda_malloc = torch.cuda.memory_allocated()\n",
    "    start_cuda_mres = torch.cuda.memory_reserved()\n",
    "    start_time = time.time()\n",
    "    image = pipe(\n",
    "        prompt = config[\"prompt\"],\n",
    "        num_inference_steps = config[\"num_inference_steps\"],\n",
    "        guidance_scale = config[\"guidance_scale\"],\n",
    "        num_images_per_prompt = config[\"num_images_per_prompt\"],\n",
    "        generator=generator\n",
    "    ).images[0]\n",
    "    end_time = time.time()\n",
    "    end_cuda_malloc = torch.cuda.memory_allocated()\n",
    "    end_cuda_mres = torch.cuda.memory_reserved()\n",
    "    elapsed_time = end_time - start_time\n",
    "    cuda_malloc_usage = (end_cuda_malloc - start_cuda_malloc) / (1024 **3)\n",
    "    cuda_mres_usage = (end_cuda_mres - start_cuda_mres) / (1024 ** 3)\n",
    "    \n",
    "    wandb.config.update({\n",
    "        \"seed\": seed,\n",
    "        \"elapsed_time (seconds)\": round(elapsed_time, 2),\n",
    "        \"cuda_inference_usage (GB)\": round(cuda_mres_usage, 2)    \n",
    "    })\n",
    "    \n",
    "    wandb.finish()\n",
    "\n",
    "    print(f\"Word count: {len(config['prompt'].split())}\")\n",
    "    print(f\"Token count: {len(pipe.tokenizer(config['prompt'])['input_ids'])}\")\n",
    "    print(f\"Elapsed time: {round(elapsed_time, 2)} seconds\")\n",
    "    print(f\"CUDA Model size: {round(start_cuda_malloc / (1024 ** 3), 2)} GB\")\n",
    "    print(f\"CUDA Memory Allocated: {round(cuda_malloc_usage, 2)} GB\")\n",
    "    print(f\"CUDA Memory Inference: {round(cuda_mres_usage, 2)} GB\")\n",
    "\n",
    "#     images.append(image)\n",
    "#     seeds.append(seed)\n",
    "\n",
    "# print(seeds)\n",
    "# image_grid(images, 1, samples, 512)"
   ]
  },
  {
   "cell_type": "code",
   "execution_count": null,
   "id": "bdf1c07f-aff6-4a35-8d1c-6980aa9aed7b",
   "metadata": {},
   "outputs": [],
   "source": []
  }
 ],
 "metadata": {
  "kernelspec": {
   "display_name": "Python 3 (ipykernel)",
   "language": "python",
   "name": "python3"
  },
  "language_info": {
   "codemirror_mode": {
    "name": "ipython",
    "version": 3
   },
   "file_extension": ".py",
   "mimetype": "text/x-python",
   "name": "python",
   "nbconvert_exporter": "python",
   "pygments_lexer": "ipython3",
   "version": "3.10.6"
  }
 },
 "nbformat": 4,
 "nbformat_minor": 5
}
